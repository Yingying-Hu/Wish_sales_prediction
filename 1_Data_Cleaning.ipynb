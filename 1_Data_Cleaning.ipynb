{
 "cells": [
  {
   "cell_type": "code",
   "execution_count": 1,
   "metadata": {},
   "outputs": [],
   "source": [
    "import pandas as pd\n",
    "import numpy as np\n",
    "import re\n",
    "import matplotlib.pyplot as plt\n",
    "from collections import Counter\n",
    "import seaborn as sns"
   ]
  },
  {
   "cell_type": "markdown",
   "metadata": {},
   "source": [
    "## Read in the Data\n",
    "\n",
    "The data is from a public dataset on Kaggle: https://www.kaggle.com/jmmvutu/summer-products-and-sales-in-ecommerce-wish, and it is generated from crawling the result page after searching “summer” on Wish. The data was\n",
    "collected in August 2020"
   ]
  },
  {
   "cell_type": "code",
   "execution_count": 2,
   "metadata": {},
   "outputs": [
    {
     "data": {
      "text/html": [
       "<div>\n",
       "<style scoped>\n",
       "    .dataframe tbody tr th:only-of-type {\n",
       "        vertical-align: middle;\n",
       "    }\n",
       "\n",
       "    .dataframe tbody tr th {\n",
       "        vertical-align: top;\n",
       "    }\n",
       "\n",
       "    .dataframe thead th {\n",
       "        text-align: right;\n",
       "    }\n",
       "</style>\n",
       "<table border=\"1\" class=\"dataframe\">\n",
       "  <thead>\n",
       "    <tr style=\"text-align: right;\">\n",
       "      <th></th>\n",
       "      <th>title</th>\n",
       "      <th>title_orig</th>\n",
       "      <th>price</th>\n",
       "      <th>retail_price</th>\n",
       "      <th>currency_buyer</th>\n",
       "      <th>units_sold</th>\n",
       "      <th>uses_ad_boosts</th>\n",
       "      <th>rating</th>\n",
       "      <th>rating_count</th>\n",
       "      <th>rating_five_count</th>\n",
       "      <th>...</th>\n",
       "      <th>merchant_rating_count</th>\n",
       "      <th>merchant_rating</th>\n",
       "      <th>merchant_id</th>\n",
       "      <th>merchant_has_profile_picture</th>\n",
       "      <th>merchant_profile_picture</th>\n",
       "      <th>product_url</th>\n",
       "      <th>product_picture</th>\n",
       "      <th>product_id</th>\n",
       "      <th>theme</th>\n",
       "      <th>crawl_month</th>\n",
       "    </tr>\n",
       "  </thead>\n",
       "  <tbody>\n",
       "    <tr>\n",
       "      <th>0</th>\n",
       "      <td>2020 Summer Vintage Flamingo Print  Pajamas Se...</td>\n",
       "      <td>2020 Summer Vintage Flamingo Print  Pajamas Se...</td>\n",
       "      <td>16.00</td>\n",
       "      <td>14</td>\n",
       "      <td>EUR</td>\n",
       "      <td>100</td>\n",
       "      <td>0</td>\n",
       "      <td>3.76</td>\n",
       "      <td>54</td>\n",
       "      <td>26.0</td>\n",
       "      <td>...</td>\n",
       "      <td>568</td>\n",
       "      <td>4.128521</td>\n",
       "      <td>595097d6a26f6e070cb878d1</td>\n",
       "      <td>0</td>\n",
       "      <td>NaN</td>\n",
       "      <td>https://www.wish.com/c/5e9ae51d43d6a96e303acdb0</td>\n",
       "      <td>https://contestimg.wish.com/api/webimage/5e9ae...</td>\n",
       "      <td>5e9ae51d43d6a96e303acdb0</td>\n",
       "      <td>summer</td>\n",
       "      <td>2020-08</td>\n",
       "    </tr>\n",
       "    <tr>\n",
       "      <th>1</th>\n",
       "      <td>SSHOUSE Summer Casual Sleeveless Soirée Party ...</td>\n",
       "      <td>Women's Casual Summer Sleeveless Sexy Mini Dress</td>\n",
       "      <td>8.00</td>\n",
       "      <td>22</td>\n",
       "      <td>EUR</td>\n",
       "      <td>20000</td>\n",
       "      <td>1</td>\n",
       "      <td>3.45</td>\n",
       "      <td>6135</td>\n",
       "      <td>2269.0</td>\n",
       "      <td>...</td>\n",
       "      <td>17752</td>\n",
       "      <td>3.899673</td>\n",
       "      <td>56458aa03a698c35c9050988</td>\n",
       "      <td>0</td>\n",
       "      <td>NaN</td>\n",
       "      <td>https://www.wish.com/c/58940d436a0d3d5da4e95a38</td>\n",
       "      <td>https://contestimg.wish.com/api/webimage/58940...</td>\n",
       "      <td>58940d436a0d3d5da4e95a38</td>\n",
       "      <td>summer</td>\n",
       "      <td>2020-08</td>\n",
       "    </tr>\n",
       "    <tr>\n",
       "      <th>2</th>\n",
       "      <td>2020 Nouvelle Arrivée Femmes Printemps et Été ...</td>\n",
       "      <td>2020 New Arrival Women Spring and Summer Beach...</td>\n",
       "      <td>8.00</td>\n",
       "      <td>43</td>\n",
       "      <td>EUR</td>\n",
       "      <td>100</td>\n",
       "      <td>0</td>\n",
       "      <td>3.57</td>\n",
       "      <td>14</td>\n",
       "      <td>5.0</td>\n",
       "      <td>...</td>\n",
       "      <td>295</td>\n",
       "      <td>3.989831</td>\n",
       "      <td>5d464a1ffdf7bc44ee933c65</td>\n",
       "      <td>0</td>\n",
       "      <td>NaN</td>\n",
       "      <td>https://www.wish.com/c/5ea10e2c617580260d55310a</td>\n",
       "      <td>https://contestimg.wish.com/api/webimage/5ea10...</td>\n",
       "      <td>5ea10e2c617580260d55310a</td>\n",
       "      <td>summer</td>\n",
       "      <td>2020-08</td>\n",
       "    </tr>\n",
       "    <tr>\n",
       "      <th>3</th>\n",
       "      <td>Hot Summer Cool T-shirt pour les femmes Mode T...</td>\n",
       "      <td>Hot Summer Cool T Shirt for Women Fashion Tops...</td>\n",
       "      <td>8.00</td>\n",
       "      <td>8</td>\n",
       "      <td>EUR</td>\n",
       "      <td>5000</td>\n",
       "      <td>1</td>\n",
       "      <td>4.03</td>\n",
       "      <td>579</td>\n",
       "      <td>295.0</td>\n",
       "      <td>...</td>\n",
       "      <td>23832</td>\n",
       "      <td>4.020435</td>\n",
       "      <td>58cfdefdacb37b556efdff7c</td>\n",
       "      <td>0</td>\n",
       "      <td>NaN</td>\n",
       "      <td>https://www.wish.com/c/5cedf17ad1d44c52c59e4aca</td>\n",
       "      <td>https://contestimg.wish.com/api/webimage/5cedf...</td>\n",
       "      <td>5cedf17ad1d44c52c59e4aca</td>\n",
       "      <td>summer</td>\n",
       "      <td>2020-08</td>\n",
       "    </tr>\n",
       "    <tr>\n",
       "      <th>4</th>\n",
       "      <td>Femmes Shorts d'été à lacets taille élastique ...</td>\n",
       "      <td>Women Summer Shorts Lace Up Elastic Waistband ...</td>\n",
       "      <td>2.72</td>\n",
       "      <td>3</td>\n",
       "      <td>EUR</td>\n",
       "      <td>100</td>\n",
       "      <td>1</td>\n",
       "      <td>3.10</td>\n",
       "      <td>20</td>\n",
       "      <td>6.0</td>\n",
       "      <td>...</td>\n",
       "      <td>14482</td>\n",
       "      <td>4.001588</td>\n",
       "      <td>5ab3b592c3911a095ad5dadb</td>\n",
       "      <td>0</td>\n",
       "      <td>NaN</td>\n",
       "      <td>https://www.wish.com/c/5ebf5819ebac372b070b0e70</td>\n",
       "      <td>https://contestimg.wish.com/api/webimage/5ebf5...</td>\n",
       "      <td>5ebf5819ebac372b070b0e70</td>\n",
       "      <td>summer</td>\n",
       "      <td>2020-08</td>\n",
       "    </tr>\n",
       "  </tbody>\n",
       "</table>\n",
       "<p>5 rows × 43 columns</p>\n",
       "</div>"
      ],
      "text/plain": [
       "                                               title  \\\n",
       "0  2020 Summer Vintage Flamingo Print  Pajamas Se...   \n",
       "1  SSHOUSE Summer Casual Sleeveless Soirée Party ...   \n",
       "2  2020 Nouvelle Arrivée Femmes Printemps et Été ...   \n",
       "3  Hot Summer Cool T-shirt pour les femmes Mode T...   \n",
       "4  Femmes Shorts d'été à lacets taille élastique ...   \n",
       "\n",
       "                                          title_orig  price  retail_price  \\\n",
       "0  2020 Summer Vintage Flamingo Print  Pajamas Se...  16.00            14   \n",
       "1   Women's Casual Summer Sleeveless Sexy Mini Dress   8.00            22   \n",
       "2  2020 New Arrival Women Spring and Summer Beach...   8.00            43   \n",
       "3  Hot Summer Cool T Shirt for Women Fashion Tops...   8.00             8   \n",
       "4  Women Summer Shorts Lace Up Elastic Waistband ...   2.72             3   \n",
       "\n",
       "  currency_buyer  units_sold  uses_ad_boosts  rating  rating_count  \\\n",
       "0            EUR         100               0    3.76            54   \n",
       "1            EUR       20000               1    3.45          6135   \n",
       "2            EUR         100               0    3.57            14   \n",
       "3            EUR        5000               1    4.03           579   \n",
       "4            EUR         100               1    3.10            20   \n",
       "\n",
       "   rating_five_count  ...  merchant_rating_count  merchant_rating  \\\n",
       "0               26.0  ...                    568         4.128521   \n",
       "1             2269.0  ...                  17752         3.899673   \n",
       "2                5.0  ...                    295         3.989831   \n",
       "3              295.0  ...                  23832         4.020435   \n",
       "4                6.0  ...                  14482         4.001588   \n",
       "\n",
       "                merchant_id  merchant_has_profile_picture  \\\n",
       "0  595097d6a26f6e070cb878d1                             0   \n",
       "1  56458aa03a698c35c9050988                             0   \n",
       "2  5d464a1ffdf7bc44ee933c65                             0   \n",
       "3  58cfdefdacb37b556efdff7c                             0   \n",
       "4  5ab3b592c3911a095ad5dadb                             0   \n",
       "\n",
       "   merchant_profile_picture                                      product_url  \\\n",
       "0                       NaN  https://www.wish.com/c/5e9ae51d43d6a96e303acdb0   \n",
       "1                       NaN  https://www.wish.com/c/58940d436a0d3d5da4e95a38   \n",
       "2                       NaN  https://www.wish.com/c/5ea10e2c617580260d55310a   \n",
       "3                       NaN  https://www.wish.com/c/5cedf17ad1d44c52c59e4aca   \n",
       "4                       NaN  https://www.wish.com/c/5ebf5819ebac372b070b0e70   \n",
       "\n",
       "                                     product_picture  \\\n",
       "0  https://contestimg.wish.com/api/webimage/5e9ae...   \n",
       "1  https://contestimg.wish.com/api/webimage/58940...   \n",
       "2  https://contestimg.wish.com/api/webimage/5ea10...   \n",
       "3  https://contestimg.wish.com/api/webimage/5cedf...   \n",
       "4  https://contestimg.wish.com/api/webimage/5ebf5...   \n",
       "\n",
       "                 product_id   theme crawl_month  \n",
       "0  5e9ae51d43d6a96e303acdb0  summer     2020-08  \n",
       "1  58940d436a0d3d5da4e95a38  summer     2020-08  \n",
       "2  5ea10e2c617580260d55310a  summer     2020-08  \n",
       "3  5cedf17ad1d44c52c59e4aca  summer     2020-08  \n",
       "4  5ebf5819ebac372b070b0e70  summer     2020-08  \n",
       "\n",
       "[5 rows x 43 columns]"
      ]
     },
     "execution_count": 2,
     "metadata": {},
     "output_type": "execute_result"
    }
   ],
   "source": [
    "sales = pd.read_csv('data/summer-products-with-rating-and-performance_2020-08.csv')\n",
    "sales.head()"
   ]
  },
  {
   "cell_type": "code",
   "execution_count": 3,
   "metadata": {},
   "outputs": [
    {
     "name": "stdout",
     "output_type": "stream",
     "text": [
      "The Wish summer sales data has 1573 entries and 43 columns\n"
     ]
    }
   ],
   "source": [
    "print(\"The Wish summer sales data has {} entries and {} columns\".format(sales.shape[0], sales.shape[1]))"
   ]
  },
  {
   "cell_type": "code",
   "execution_count": 4,
   "metadata": {},
   "outputs": [
    {
     "name": "stdout",
     "output_type": "stream",
     "text": [
      "<class 'pandas.core.frame.DataFrame'>\n",
      "RangeIndex: 1573 entries, 0 to 1572\n",
      "Data columns (total 43 columns):\n",
      " #   Column                        Non-Null Count  Dtype  \n",
      "---  ------                        --------------  -----  \n",
      " 0   title                         1573 non-null   object \n",
      " 1   title_orig                    1573 non-null   object \n",
      " 2   price                         1573 non-null   float64\n",
      " 3   retail_price                  1573 non-null   int64  \n",
      " 4   currency_buyer                1573 non-null   object \n",
      " 5   units_sold                    1573 non-null   int64  \n",
      " 6   uses_ad_boosts                1573 non-null   int64  \n",
      " 7   rating                        1573 non-null   float64\n",
      " 8   rating_count                  1573 non-null   int64  \n",
      " 9   rating_five_count             1528 non-null   float64\n",
      " 10  rating_four_count             1528 non-null   float64\n",
      " 11  rating_three_count            1528 non-null   float64\n",
      " 12  rating_two_count              1528 non-null   float64\n",
      " 13  rating_one_count              1528 non-null   float64\n",
      " 14  badges_count                  1573 non-null   int64  \n",
      " 15  badge_local_product           1573 non-null   int64  \n",
      " 16  badge_product_quality         1573 non-null   int64  \n",
      " 17  badge_fast_shipping           1573 non-null   int64  \n",
      " 18  tags                          1573 non-null   object \n",
      " 19  product_color                 1532 non-null   object \n",
      " 20  product_variation_size_id     1559 non-null   object \n",
      " 21  product_variation_inventory   1573 non-null   int64  \n",
      " 22  shipping_option_name          1573 non-null   object \n",
      " 23  shipping_option_price         1573 non-null   int64  \n",
      " 24  shipping_is_express           1573 non-null   int64  \n",
      " 25  countries_shipped_to          1573 non-null   int64  \n",
      " 26  inventory_total               1573 non-null   int64  \n",
      " 27  has_urgency_banner            473 non-null    float64\n",
      " 28  urgency_text                  473 non-null    object \n",
      " 29  origin_country                1556 non-null   object \n",
      " 30  merchant_title                1573 non-null   object \n",
      " 31  merchant_name                 1569 non-null   object \n",
      " 32  merchant_info_subtitle        1572 non-null   object \n",
      " 33  merchant_rating_count         1573 non-null   int64  \n",
      " 34  merchant_rating               1573 non-null   float64\n",
      " 35  merchant_id                   1573 non-null   object \n",
      " 36  merchant_has_profile_picture  1573 non-null   int64  \n",
      " 37  merchant_profile_picture      226 non-null    object \n",
      " 38  product_url                   1573 non-null   object \n",
      " 39  product_picture               1573 non-null   object \n",
      " 40  product_id                    1573 non-null   object \n",
      " 41  theme                         1573 non-null   object \n",
      " 42  crawl_month                   1573 non-null   object \n",
      "dtypes: float64(9), int64(15), object(19)\n",
      "memory usage: 528.6+ KB\n"
     ]
    }
   ],
   "source": [
    "sales.info() #check the data type and see if there's any NAs"
   ]
  },
  {
   "cell_type": "markdown",
   "metadata": {},
   "source": [
    "Most columns look good. However, there are a few columns missing a lot of data:\n",
    "- has_urgency_banner\n",
    "- urgency_text\n",
    "- merchant_profile_picture\n",
    "We will need to handle these columns later"
   ]
  },
  {
   "cell_type": "markdown",
   "metadata": {},
   "source": [
    "## Data Validation\n",
    "\n",
    "### Check Duplicated Entries"
   ]
  },
  {
   "cell_type": "code",
   "execution_count": 5,
   "metadata": {},
   "outputs": [
    {
     "name": "stdout",
     "output_type": "stream",
     "text": [
      "There are 34 number of duplicated entries in the sales dataset\n"
     ]
    }
   ],
   "source": [
    "sales_duplicate = sales.duplicated()\n",
    "sales_duplicate_row = sales_duplicate[sales_duplicate==True]\n",
    "print(\"There are {} number of duplicated entries in the sales dataset\".format(len(sales_duplicate_row)))"
   ]
  },
  {
   "cell_type": "code",
   "execution_count": 6,
   "metadata": {},
   "outputs": [
    {
     "name": "stdout",
     "output_type": "stream",
     "text": [
      "The Wish summer sales data has 1539 entries and 43 columns after removing duplicated rows\n"
     ]
    }
   ],
   "source": [
    "##drop the duplicated rows\n",
    "sales_no_duplicate = sales.drop(sales_duplicate_row.index, axis=0)\n",
    "print(\"The Wish summer sales data has {} entries and {} columns after removing duplicated rows\".format\n",
    "                                                                  (sales_no_duplicate.shape[0], sales_no_duplicate.shape[1]))"
   ]
  },
  {
   "cell_type": "markdown",
   "metadata": {},
   "source": [
    "### Handle Missing Values"
   ]
  },
  {
   "cell_type": "code",
   "execution_count": 7,
   "metadata": {},
   "outputs": [],
   "source": [
    "def count_na_by_column(df):\n",
    "    na_count = df.isna().sum() #show columns which have missing entry \n",
    "    na_columns = na_count[na_count!=0].sort_values()\n",
    "    return na_columns "
   ]
  },
  {
   "cell_type": "code",
   "execution_count": 8,
   "metadata": {},
   "outputs": [],
   "source": [
    "na_columns = count_na_by_column(sales_no_duplicate)"
   ]
  },
  {
   "cell_type": "code",
   "execution_count": 9,
   "metadata": {},
   "outputs": [
    {
     "data": {
      "image/png": "[encoded data removed]",
      "text/plain": [
       "<Figure size 432x288 with 1 Axes>"
      ]
     },
     "metadata": {
      "needs_background": "light"
     },
     "output_type": "display_data"
    }
   ],
   "source": [
    "%matplotlib inline\n",
    "plt.bar(x=na_columns.index, height=na_columns.values)\n",
    "plt.xticks(rotation=90)\n",
    "plt.title('Number of NA rows in the Wish sales column');"
   ]
  },
  {
   "cell_type": "markdown",
   "metadata": {},
   "source": [
    "### rating_{N}_count columns\n",
    "\n",
    "The ```rating_{N}_count``` columns show the number of ratings which have N-star. For example, ```rating_two_count``` indicates the number of 2-star ratings for a product. Therefore, the NA in ```rating_two_count``` means there's no 2-start rating, and we can simply replace the NA with 0"
   ]
  },
  {
   "cell_type": "code",
   "execution_count": 10,
   "metadata": {},
   "outputs": [],
   "source": [
    "r = re.compile(\"rating_\\w+_count\")\n",
    "rating_col = list(filter(r.match, sales_no_duplicate.columns.values)) #find column names for rating_N_count\n",
    "rating_df = sales_no_duplicate[rating_col].fillna(0)"
   ]
  },
  {
   "cell_type": "markdown",
   "metadata": {},
   "source": [
    "### has_urgency_banner and urgency_text\n",
    "The ```has_urgency_banner``` shows whether there was an urgency banner with an ```urgency_text``` for a product.The NA means there's no urgency banner."
   ]
  },
  {
   "cell_type": "code",
   "execution_count": 11,
   "metadata": {},
   "outputs": [
    {
     "name": "stdout",
     "output_type": "stream",
     "text": [
      "urgency_text has values: {nan, 'Quantité limitée !', 'Réduction sur les achats en gros'}\n"
     ]
    }
   ],
   "source": [
    "print(\"urgency_text has values:\",set(sales_no_duplicate[\"urgency_text\"]))"
   ]
  },
  {
   "cell_type": "markdown",
   "metadata": {},
   "source": [
    "The ```urgency_text``` are in French, and it only has three categories,  'Quantité limitée !' (Limited quantity), 'Réduction sur les achats en gros' (Discount on wholesale purchases), and nan. Hence, we can use one_hot_encoding to transfrom the ```urgency_text``` and simply drop the ```has_urgency_banner```"
   ]
  },
  {
   "cell_type": "code",
   "execution_count": 12,
   "metadata": {},
   "outputs": [],
   "source": [
    "urgency_encoding = pd.get_dummies(sales_no_duplicate[\"urgency_text\"], dummy_na=True) #apply one hot encoding on the urgency_text\n",
    "urgency_encoding.columns = ['limited_quantity','discount','no_urgency']"
   ]
  },
  {
   "cell_type": "markdown",
   "metadata": {},
   "source": [
    "### merchant_profile_picture\n",
    "The```merchant_profile_picture``` has the link to custom profile picture of the seller (if the seller has one), otherwise it is NA. Luckily, there's a column ```merchant_has_profile_picture``` for showing whether the seller has a profile picture. We can drop the ```merchant_profile_picture``` "
   ]
  },
  {
   "cell_type": "code",
   "execution_count": 13,
   "metadata": {},
   "outputs": [],
   "source": [
    "drop_columns = [\"urgency_text\", \"has_urgency_banner\", \"merchant_profile_picture\"] + rating_col\n",
    "sales_clean = sales_no_duplicate.drop(drop_columns, axis=1) #drop urgency_text, has_urgency_banner, merchant_profile_picture "
   ]
  },
  {
   "cell_type": "markdown",
   "metadata": {},
   "source": [
    "### product_color"
   ]
  },
  {
   "cell_type": "code",
   "execution_count": 14,
   "metadata": {},
   "outputs": [
    {
     "data": {
      "text/plain": [
       "[('black', 301),\n",
       " ('white', 249),\n",
       " ('yellow', 101),\n",
       " ('pink', 99),\n",
       " ('blue', 97),\n",
       " ('red', 93),\n",
       " ('green', 86),\n",
       " ('grey', 70),\n",
       " ('purple', 53),\n",
       " (nan, 41),\n",
       " ('armygreen', 31),\n",
       " ('navyblue', 27),\n",
       " ('orange', 27),\n",
       " ('winered', 27),\n",
       " ('multicolor', 20),\n",
       " ('beige', 14),\n",
       " ('lightblue', 12),\n",
       " ('khaki', 12),\n",
       " ('white & green', 10),\n",
       " ('gray', 10),\n",
       " ('skyblue', 8),\n",
       " ('rosered', 8),\n",
       " ('brown', 7),\n",
       " ('coffee', 6),\n",
       " ('darkblue', 6),\n",
       " ('floral', 5),\n",
       " ('rose', 5),\n",
       " ('black & green', 4),\n",
       " ('lightpink', 4),\n",
       " ('leopard', 4),\n",
       " ('fluorescentgreen', 3),\n",
       " ('camouflage', 3),\n",
       " ('army green', 3),\n",
       " ('lightgreen', 3),\n",
       " ('black & white', 3),\n",
       " ('orange-red', 3),\n",
       " ('navy', 3),\n",
       " ('whitefloral', 2),\n",
       " ('lightyellow', 2),\n",
       " ('coolblack', 2),\n",
       " ('pink & black', 2),\n",
       " ('silver', 2),\n",
       " ('mintgreen', 2),\n",
       " ('pink & grey', 2),\n",
       " ('dustypink', 2),\n",
       " ('white & black', 2),\n",
       " ('apricot', 2),\n",
       " ('burgundy', 2),\n",
       " ('pink & white', 2),\n",
       " ('navy blue', 2),\n",
       " ('lightred', 2),\n",
       " ('lakeblue', 2),\n",
       " ('camel', 2),\n",
       " ('pink & blue', 2),\n",
       " ('applegreen', 2),\n",
       " ('watermelonred', 2),\n",
       " ('wine', 2),\n",
       " ('black & yellow', 2),\n",
       " ('black & blue', 2),\n",
       " ('leopardprint', 1),\n",
       " ('red & blue', 1),\n",
       " ('blue & pink', 1),\n",
       " ('orange & camouflage', 1),\n",
       " ('light green', 1),\n",
       " ('star', 1),\n",
       " ('claret', 1),\n",
       " ('tan', 1),\n",
       " ('wine red', 1),\n",
       " ('coralred', 1),\n",
       " ('nude', 1),\n",
       " ('lightpurple', 1),\n",
       " ('army', 1),\n",
       " ('black & stripe', 1),\n",
       " ('rose red', 1),\n",
       " ('greysnakeskinprint', 1),\n",
       " ('denimblue', 1),\n",
       " ('offwhite', 1),\n",
       " ('lightgray', 1),\n",
       " ('gray & white', 1),\n",
       " ('brown & yellow', 1),\n",
       " ('winered & yellow', 1),\n",
       " ('whitestripe', 1),\n",
       " ('rainbow', 1),\n",
       " ('lightgrey', 1),\n",
       " ('prussianblue', 1),\n",
       " ('navyblue & white', 1),\n",
       " ('white & red', 1),\n",
       " ('ivory', 1),\n",
       " ('jasper', 1),\n",
       " ('lightkhaki', 1),\n",
       " ('offblack', 1),\n",
       " ('violet', 1),\n",
       " ('blackwhite', 1),\n",
       " ('darkgreen', 1),\n",
       " ('rosegold', 1),\n",
       " ('gold', 1)]"
      ]
     },
     "execution_count": 14,
     "metadata": {},
     "output_type": "execute_result"
    }
   ],
   "source": [
    "product_color = sales_clean[\"product_color\"]\n",
    "Counter(product_color.str.lower()).most_common() #sort the product_color based on their frequencies"
   ]
  },
  {
   "cell_type": "markdown",
   "metadata": {},
   "source": [
    "White and black products count about 35% of the dataset in total. We can classify other color types as a thrid category. Then, apply one hot encoding on the product_color variable"
   ]
  },
  {
   "cell_type": "code",
   "execution_count": 15,
   "metadata": {},
   "outputs": [
    {
     "data": {
      "text/plain": [
       "0              white\n",
       "1              green\n",
       "2       leopardprint\n",
       "3              black\n",
       "4             yellow\n",
       "            ...     \n",
       "1568        navyblue\n",
       "1569       lightblue\n",
       "1570           white\n",
       "1571           white\n",
       "1572             red\n",
       "Name: product_color, Length: 1539, dtype: object"
      ]
     },
     "execution_count": 15,
     "metadata": {},
     "output_type": "execute_result"
    }
   ],
   "source": [
    "sales_clean[\"product_color\"]"
   ]
  },
  {
   "cell_type": "code",
   "execution_count": 16,
   "metadata": {},
   "outputs": [],
   "source": [
    "sales_clean[\"product_color\"]=sales_clean[\"product_color\"].map(lambda x: x.lower() if isinstance(x,str) else x) #transform all the string to lower case\n",
    "sales_clean.loc[(sales_clean.product_color!=\"white\") & (sales_clean.product_color!=\"black\"), \"product_color\"] = \"other\""
   ]
  },
  {
   "cell_type": "code",
   "execution_count": 17,
   "metadata": {},
   "outputs": [
    {
     "name": "stdout",
     "output_type": "stream",
     "text": [
      "Now the product_color has 3 types: {'black', 'other', 'white'}\n"
     ]
    }
   ],
   "source": [
    "print(\"Now the product_color has 3 types:\",set(sales_clean[\"product_color\"]))"
   ]
  },
  {
   "cell_type": "code",
   "execution_count": 18,
   "metadata": {},
   "outputs": [],
   "source": [
    "#apply one_hot_encoding on the product_color column\n",
    "color_encoding = pd.get_dummies(sales_clean[\"product_color\"],prefix=\"color\") \n",
    "sales_no_color=sales_clean.drop(\"product_color\", axis=1) #drop the orginal product_color column"
   ]
  },
  {
   "cell_type": "markdown",
   "metadata": {},
   "source": [
    "### origin_country\n"
   ]
  },
  {
   "cell_type": "code",
   "execution_count": 19,
   "metadata": {},
   "outputs": [
    {
     "data": {
      "text/plain": [
       "[('cn', 1484),\n",
       " ('us', 31),\n",
       " (nan, 16),\n",
       " ('ve', 4),\n",
       " ('sg', 2),\n",
       " ('at', 1),\n",
       " ('gb', 1)]"
      ]
     },
     "execution_count": 19,
     "metadata": {},
     "output_type": "execute_result"
    }
   ],
   "source": [
    "origin_country = sales_no_color[\"origin_country\"]\n",
    "Counter(origin_country.str.lower()).most_common()"
   ]
  },
  {
   "cell_type": "code",
   "execution_count": 20,
   "metadata": {},
   "outputs": [
    {
     "data": {
      "image/png": "[encoded data removed]",
      "text/plain": [
       "<Figure size 432x288 with 1 Axes>"
      ]
     },
     "metadata": {
      "needs_background": "light"
     },
     "output_type": "display_data"
    }
   ],
   "source": [
    "sns.boxplot(y=\"units_sold\", x=\"origin_country\", data=sales_no_color);"
   ]
  },
  {
   "cell_type": "code",
   "execution_count": 21,
   "metadata": {},
   "outputs": [],
   "source": [
    "sales_no_color[\"origin_country\"] = sales_no_color[\"origin_country\"].map(lambda x: x.lower() if isinstance(x,str) else x) #transform all the string to lower case\n",
    "\n",
    "#convert the origin_country column to a binary categorical column -- China (1) Other(0)\n",
    "sales_no_color.loc[sales_no_color.origin_country != \"cn\", \"origin_country\"]= 0\n",
    "sales_no_color.loc[sales_no_color.origin_country != 0, \"origin_country\"]= 1"
   ]
  },
  {
   "cell_type": "code",
   "execution_count": 22,
   "metadata": {},
   "outputs": [
    {
     "name": "stdout",
     "output_type": "stream",
     "text": [
      "Now the origin_country has 2 categories: {0, 1}\n"
     ]
    }
   ],
   "source": [
    "sales_no_color.rename(columns = {\"origin_country\":\"origin_china\"}, inplace=True)\n",
    "print(\"Now the origin_country has 2 categories:\",set(sales_no_color[\"origin_china\"]))"
   ]
  },
  {
   "cell_type": "markdown",
   "metadata": {},
   "source": [
    "### product_variation_size_id"
   ]
  },
  {
   "cell_type": "code",
   "execution_count": 23,
   "metadata": {},
   "outputs": [
    {
     "data": {
      "text/plain": [
       "[('s', 635),\n",
       " ('xs', 344),\n",
       " ('m', 198),\n",
       " ('xxs', 94),\n",
       " ('l', 49),\n",
       " ('xl', 17),\n",
       " ('s.', 16),\n",
       " ('xxl', 15),\n",
       " (nan, 14),\n",
       " ('size s', 8),\n",
       " ('xxxs', 6),\n",
       " ('xs.', 5),\n",
       " ('4xl', 5),\n",
       " ('size-xs', 4),\n",
       " ('m.', 4),\n",
       " ('size xs', 4),\n",
       " ('2xl', 4),\n",
       " ('2pcs', 3),\n",
       " ('33', 3),\n",
       " ('sizel', 3),\n",
       " ('34', 3),\n",
       " ('size-xxs', 3),\n",
       " ('size-s', 3),\n",
       " ('10 ml', 3),\n",
       " ('suit-s', 2),\n",
       " ('xxxxxl', 2),\n",
       " ('eu 35', 2),\n",
       " ('size s.', 2),\n",
       " ('3xl', 2),\n",
       " ('size xxs', 2),\n",
       " ('29', 2),\n",
       " ('one size', 2),\n",
       " ('1', 2),\n",
       " ('5xl', 2),\n",
       " ('size m', 2),\n",
       " ('xxxxl', 2),\n",
       " ('35', 2),\n",
       " ('s(bust 88cm)', 2),\n",
       " ('size -xxs', 2),\n",
       " ('1 pc.', 2),\n",
       " ('s pink', 2),\n",
       " ('size4xl', 2),\n",
       " ('choose a size', 1),\n",
       " ('32/l', 1),\n",
       " ('4', 1),\n",
       " ('1m by 3m', 1),\n",
       " ('women size 36', 1),\n",
       " ('us 6.5 (eu 37)', 1),\n",
       " ('26(waist 72cm 28inch)', 1),\n",
       " ('1pc', 1),\n",
       " ('100 cm', 1),\n",
       " ('size-4xl', 1),\n",
       " ('s/m(child)', 1),\n",
       " ('xxxl', 1),\n",
       " ('s..', 1),\n",
       " ('30 cm', 1),\n",
       " ('100 x 100cm(39.3 x 39.3inch)', 1),\n",
       " ('100pcs', 1),\n",
       " ('base & top & matte top coat', 1),\n",
       " ('s (waist58-62cm)', 1),\n",
       " ('s(pink & black)', 1),\n",
       " ('20pcs', 1),\n",
       " ('us-s', 1),\n",
       " ('x   l', 1),\n",
       " ('white', 1),\n",
       " ('25', 1),\n",
       " ('round', 1),\n",
       " ('pack of 1', 1),\n",
       " ('s diameter 30cm', 1),\n",
       " ('6xl', 1),\n",
       " ('au plug low quality', 1),\n",
       " ('5pairs', 1),\n",
       " ('25-s', 1),\n",
       " ('size/s', 1),\n",
       " ('size-5xl', 1),\n",
       " ('daughter 24m', 1),\n",
       " ('2', 1),\n",
       " ('baby float boat', 1),\n",
       " ('60', 1),\n",
       " ('size-l', 1),\n",
       " ('us5.5-eu35', 1),\n",
       " ('10pcs', 1),\n",
       " ('17', 1),\n",
       " ('women size 37', 1),\n",
       " ('3 layered anklet', 1),\n",
       " ('4-5 years', 1),\n",
       " ('first  generation', 1),\n",
       " ('80 x 200 cm', 1),\n",
       " ('eu39(us8)', 1),\n",
       " ('l.', 1),\n",
       " ('base coat', 1),\n",
       " ('36', 1),\n",
       " ('04-3xl', 1),\n",
       " ('pants-s', 1),\n",
       " ('floating chair for kid', 1),\n",
       " ('20pcs-10pairs', 1),\n",
       " ('b', 1),\n",
       " ('size--s', 1),\n",
       " ('5', 1),\n",
       " ('1 pc - xl', 1),\n",
       " ('h01', 1),\n",
       " ('40 cm', 1)]"
      ]
     },
     "execution_count": 23,
     "metadata": {},
     "output_type": "execute_result"
    }
   ],
   "source": [
    "product_size = sales_no_color[\"product_variation_size_id\"]\n",
    "Counter(product_size.str.lower()).most_common()"
   ]
  },
  {
   "cell_type": "markdown",
   "metadata": {},
   "source": [
    "Transfrom the product size into 4 categories: s, m xs, and other"
   ]
  },
  {
   "cell_type": "code",
   "execution_count": 24,
   "metadata": {},
   "outputs": [],
   "source": [
    "sales_no_color[\"product_variation_size_id\"]=sales_no_color[\"product_variation_size_id\"].map(lambda x: x.lower() if isinstance(x,str) else x) #transform all the string to lower case\n",
    "sales_no_color.loc[~sales_no_color.product_variation_size_id.isin(['s', 'm', 'xs']), \"product_variation_size_id\"]= \"other\""
   ]
  },
  {
   "cell_type": "code",
   "execution_count": 25,
   "metadata": {},
   "outputs": [
    {
     "name": "stdout",
     "output_type": "stream",
     "text": [
      "Now the product_variation_size_id has 4 types: {'xs', 's', 'm', 'other'}\n"
     ]
    }
   ],
   "source": [
    "print(\"Now the product_variation_size_id has 4 types:\",set(sales_no_color[\"product_variation_size_id\"]))"
   ]
  },
  {
   "cell_type": "code",
   "execution_count": 26,
   "metadata": {},
   "outputs": [],
   "source": [
    "size_encoding = pd.get_dummies(sales_no_color[\"product_variation_size_id\"], prefix='size') \n",
    "sales_no_size=sales_no_color.drop(\"product_variation_size_id\", axis=1) #drop the orginal product_variation_size_id column"
   ]
  },
  {
   "cell_type": "markdown",
   "metadata": {},
   "source": [
    "```merchant_info_subtitle``` is the subtitle text as shown on a seller's info section to the user. ```merchant_name``` is merchant's canonical name, and it won't be shown to the customer. We will not need these two columns for our model, so we can drop them now."
   ]
  },
  {
   "cell_type": "code",
   "execution_count": 27,
   "metadata": {},
   "outputs": [],
   "source": [
    "sales_no_merchant = sales_no_size.drop([\"merchant_info_subtitle\", \"merchant_name\"], axis=1)"
   ]
  },
  {
   "cell_type": "code",
   "execution_count": 28,
   "metadata": {},
   "outputs": [],
   "source": [
    "#concatnate the transformed rating_N_counts and one_hot_encoding urgency columns to the orginal dataframe \n",
    "sales_all = pd.concat([sales_no_merchant, urgency_encoding, rating_df, color_encoding, size_encoding], axis=1) "
   ]
  },
  {
   "cell_type": "code",
   "execution_count": 29,
   "metadata": {},
   "outputs": [
    {
     "data": {
      "text/plain": [
       "False"
      ]
     },
     "execution_count": 29,
     "metadata": {},
     "output_type": "execute_result"
    }
   ],
   "source": [
    "sales_all.isnull().values.any() #check if there's any NA value remaining in the dataset"
   ]
  },
  {
   "cell_type": "markdown",
   "metadata": {},
   "source": [
    "## Remove irrelevant columns\n",
    "\n",
    "Some columns in the dataset are not meaningful for our project. They can be removed:\n",
    "\n",
    "- theme: the search term used in the search bar of the website to get these search results.In our case, it is just \"summer\"\n",
    "- crawl_month: when the data set is generated \n",
    "- product_id: product identifier\n",
    "- product_picture\n",
    "- product_url\n",
    "- merchant_id : merchant unique id\n",
    "- merchant_title: Merchant's displayed name (show in the UI as the seller's shop name)\n",
    "- currecy_buyer: currecnt of the prices, which is just \"EUR\" in this dataset\n",
    "- title: Title for localized for european countries. May be the same as title_orig if the seller did not offer a translation\n",
    "- title_orig: Original english title of the product"
   ]
  },
  {
   "cell_type": "code",
   "execution_count": 31,
   "metadata": {},
   "outputs": [],
   "source": [
    "remove_columns = ['theme', 'crawl_month', 'product_id', 'product_picture','product_url', 'merchant_id', 'merchant_title',\n",
    "                 'currency_buyer','title','title_orig']\n",
    "sale_final = sales_all.drop(remove_columns, axis=1)"
   ]
  },
  {
   "cell_type": "code",
   "execution_count": 32,
   "metadata": {},
   "outputs": [
    {
     "data": {
      "text/html": [
       "<div>\n",
       "<style scoped>\n",
       "    .dataframe tbody tr th:only-of-type {\n",
       "        vertical-align: middle;\n",
       "    }\n",
       "\n",
       "    .dataframe tbody tr th {\n",
       "        vertical-align: top;\n",
       "    }\n",
       "\n",
       "    .dataframe thead th {\n",
       "        text-align: right;\n",
       "    }\n",
       "</style>\n",
       "<table border=\"1\" class=\"dataframe\">\n",
       "  <thead>\n",
       "    <tr style=\"text-align: right;\">\n",
       "      <th></th>\n",
       "      <th>price</th>\n",
       "      <th>retail_price</th>\n",
       "      <th>units_sold</th>\n",
       "      <th>uses_ad_boosts</th>\n",
       "      <th>rating</th>\n",
       "      <th>rating_count</th>\n",
       "      <th>badges_count</th>\n",
       "      <th>badge_local_product</th>\n",
       "      <th>badge_product_quality</th>\n",
       "      <th>badge_fast_shipping</th>\n",
       "      <th>...</th>\n",
       "      <th>rating_three_count</th>\n",
       "      <th>rating_two_count</th>\n",
       "      <th>rating_one_count</th>\n",
       "      <th>color_black</th>\n",
       "      <th>color_other</th>\n",
       "      <th>color_white</th>\n",
       "      <th>size_m</th>\n",
       "      <th>size_other</th>\n",
       "      <th>size_s</th>\n",
       "      <th>size_xs</th>\n",
       "    </tr>\n",
       "  </thead>\n",
       "  <tbody>\n",
       "    <tr>\n",
       "      <th>0</th>\n",
       "      <td>16.00</td>\n",
       "      <td>14</td>\n",
       "      <td>100</td>\n",
       "      <td>0</td>\n",
       "      <td>3.76</td>\n",
       "      <td>54</td>\n",
       "      <td>0</td>\n",
       "      <td>0</td>\n",
       "      <td>0</td>\n",
       "      <td>0</td>\n",
       "      <td>...</td>\n",
       "      <td>10.0</td>\n",
       "      <td>1.0</td>\n",
       "      <td>9.0</td>\n",
       "      <td>0</td>\n",
       "      <td>0</td>\n",
       "      <td>1</td>\n",
       "      <td>1</td>\n",
       "      <td>0</td>\n",
       "      <td>0</td>\n",
       "      <td>0</td>\n",
       "    </tr>\n",
       "    <tr>\n",
       "      <th>1</th>\n",
       "      <td>8.00</td>\n",
       "      <td>22</td>\n",
       "      <td>20000</td>\n",
       "      <td>1</td>\n",
       "      <td>3.45</td>\n",
       "      <td>6135</td>\n",
       "      <td>0</td>\n",
       "      <td>0</td>\n",
       "      <td>0</td>\n",
       "      <td>0</td>\n",
       "      <td>...</td>\n",
       "      <td>1118.0</td>\n",
       "      <td>644.0</td>\n",
       "      <td>1077.0</td>\n",
       "      <td>0</td>\n",
       "      <td>1</td>\n",
       "      <td>0</td>\n",
       "      <td>0</td>\n",
       "      <td>0</td>\n",
       "      <td>0</td>\n",
       "      <td>1</td>\n",
       "    </tr>\n",
       "    <tr>\n",
       "      <th>2</th>\n",
       "      <td>8.00</td>\n",
       "      <td>43</td>\n",
       "      <td>100</td>\n",
       "      <td>0</td>\n",
       "      <td>3.57</td>\n",
       "      <td>14</td>\n",
       "      <td>0</td>\n",
       "      <td>0</td>\n",
       "      <td>0</td>\n",
       "      <td>0</td>\n",
       "      <td>...</td>\n",
       "      <td>2.0</td>\n",
       "      <td>0.0</td>\n",
       "      <td>3.0</td>\n",
       "      <td>0</td>\n",
       "      <td>1</td>\n",
       "      <td>0</td>\n",
       "      <td>0</td>\n",
       "      <td>0</td>\n",
       "      <td>0</td>\n",
       "      <td>1</td>\n",
       "    </tr>\n",
       "    <tr>\n",
       "      <th>3</th>\n",
       "      <td>8.00</td>\n",
       "      <td>8</td>\n",
       "      <td>5000</td>\n",
       "      <td>1</td>\n",
       "      <td>4.03</td>\n",
       "      <td>579</td>\n",
       "      <td>0</td>\n",
       "      <td>0</td>\n",
       "      <td>0</td>\n",
       "      <td>0</td>\n",
       "      <td>...</td>\n",
       "      <td>87.0</td>\n",
       "      <td>42.0</td>\n",
       "      <td>36.0</td>\n",
       "      <td>1</td>\n",
       "      <td>0</td>\n",
       "      <td>0</td>\n",
       "      <td>1</td>\n",
       "      <td>0</td>\n",
       "      <td>0</td>\n",
       "      <td>0</td>\n",
       "    </tr>\n",
       "    <tr>\n",
       "      <th>4</th>\n",
       "      <td>2.72</td>\n",
       "      <td>3</td>\n",
       "      <td>100</td>\n",
       "      <td>1</td>\n",
       "      <td>3.10</td>\n",
       "      <td>20</td>\n",
       "      <td>0</td>\n",
       "      <td>0</td>\n",
       "      <td>0</td>\n",
       "      <td>0</td>\n",
       "      <td>...</td>\n",
       "      <td>2.0</td>\n",
       "      <td>2.0</td>\n",
       "      <td>6.0</td>\n",
       "      <td>0</td>\n",
       "      <td>1</td>\n",
       "      <td>0</td>\n",
       "      <td>0</td>\n",
       "      <td>0</td>\n",
       "      <td>1</td>\n",
       "      <td>0</td>\n",
       "    </tr>\n",
       "  </tbody>\n",
       "</table>\n",
       "<p>5 rows × 36 columns</p>\n",
       "</div>"
      ],
      "text/plain": [
       "   price  retail_price  units_sold  uses_ad_boosts  rating  rating_count  \\\n",
       "0  16.00            14         100               0    3.76            54   \n",
       "1   8.00            22       20000               1    3.45          6135   \n",
       "2   8.00            43         100               0    3.57            14   \n",
       "3   8.00             8        5000               1    4.03           579   \n",
       "4   2.72             3         100               1    3.10            20   \n",
       "\n",
       "   badges_count  badge_local_product  badge_product_quality  \\\n",
       "0             0                    0                      0   \n",
       "1             0                    0                      0   \n",
       "2             0                    0                      0   \n",
       "3             0                    0                      0   \n",
       "4             0                    0                      0   \n",
       "\n",
       "   badge_fast_shipping  ... rating_three_count  rating_two_count  \\\n",
       "0                    0  ...               10.0               1.0   \n",
       "1                    0  ...             1118.0             644.0   \n",
       "2                    0  ...                2.0               0.0   \n",
       "3                    0  ...               87.0              42.0   \n",
       "4                    0  ...                2.0               2.0   \n",
       "\n",
       "  rating_one_count  color_black  color_other  color_white  size_m size_other  \\\n",
       "0              9.0            0            0            1       1          0   \n",
       "1           1077.0            0            1            0       0          0   \n",
       "2              3.0            0            1            0       0          0   \n",
       "3             36.0            1            0            0       1          0   \n",
       "4              6.0            0            1            0       0          0   \n",
       "\n",
       "   size_s  size_xs  \n",
       "0       0        0  \n",
       "1       0        1  \n",
       "2       0        1  \n",
       "3       0        0  \n",
       "4       1        0  \n",
       "\n",
       "[5 rows x 36 columns]"
      ]
     },
     "execution_count": 32,
     "metadata": {},
     "output_type": "execute_result"
    }
   ],
   "source": [
    "sale_final.head()"
   ]
  },
  {
   "cell_type": "code",
   "execution_count": 33,
   "metadata": {},
   "outputs": [
    {
     "data": {
      "text/plain": [
       "Index(['price', 'retail_price', 'units_sold', 'uses_ad_boosts', 'rating',\n",
       "       'rating_count', 'badges_count', 'badge_local_product',\n",
       "       'badge_product_quality', 'badge_fast_shipping', 'tags',\n",
       "       'product_variation_inventory', 'shipping_option_name',\n",
       "       'shipping_option_price', 'shipping_is_express', 'countries_shipped_to',\n",
       "       'inventory_total', 'origin_china', 'merchant_rating_count',\n",
       "       'merchant_rating', 'merchant_has_profile_picture', 'limited_quantity',\n",
       "       'discount', 'no_urgency', 'rating_five_count', 'rating_four_count',\n",
       "       'rating_three_count', 'rating_two_count', 'rating_one_count',\n",
       "       'color_black', 'color_other', 'color_white', 'size_m', 'size_other',\n",
       "       'size_s', 'size_xs'],\n",
       "      dtype='object')"
      ]
     },
     "execution_count": 33,
     "metadata": {},
     "output_type": "execute_result"
    }
   ],
   "source": [
    "sale_final.columns"
   ]
  },
  {
   "cell_type": "markdown",
   "metadata": {},
   "source": [
    "## Save the cleaned data to local"
   ]
  },
  {
   "cell_type": "code",
   "execution_count": 35,
   "metadata": {},
   "outputs": [],
   "source": [
    "sale_final.to_csv('data/wish_sales_clean.csv', index=False)"
   ]
  }
 ],
 "metadata": {
  "kernelspec": {
   "display_name": "conda_python3",
   "language": "python",
   "name": "conda_python3"
  },
  "language_info": {
   "codemirror_mode": {
    "name": "ipython",
    "version": 3
   },
   "file_extension": ".py",
   "mimetype": "text/x-python",
   "name": "python",
   "nbconvert_exporter": "python",
   "pygments_lexer": "ipython3",
   "version": "3.6.10"
  }
 },
 "nbformat": 4,
 "nbformat_minor": 4
}

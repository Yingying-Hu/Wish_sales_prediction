{
 "cells": [
  {
   "cell_type": "code",
   "execution_count": 48,
   "metadata": {},
   "outputs": [
    {
     "name": "stdout",
     "output_type": "stream",
     "text": [
      "Requirement already satisfied: xgboost in /home/ec2-user/anaconda3/envs/python3/lib/python3.6/site-packages (1.2.0)\n",
      "Requirement already satisfied: scipy in /home/ec2-user/anaconda3/envs/python3/lib/python3.6/site-packages (from xgboost) (1.4.1)\n",
      "Requirement already satisfied: numpy in /home/ec2-user/anaconda3/envs/python3/lib/python3.6/site-packages (from xgboost) (1.18.1)\n",
      "\u001b[33mWARNING: You are using pip version 20.0.2; however, version 20.2.3 is available.\n",
      "You should consider upgrading via the '/home/ec2-user/anaconda3/envs/python3/bin/python -m pip install --upgrade pip' command.\u001b[0m\n",
      "Note: you may need to restart the kernel to use updated packages.\n"
     ]
    }
   ],
   "source": [
    "pip install xgboost"
   ]
  },
  {
   "cell_type": "code",
   "execution_count": 49,
   "metadata": {},
   "outputs": [],
   "source": [
    "import pandas as pd\n",
    "import numpy as np\n",
    "from sklearn.model_selection import train_test_split\n",
    "from sklearn.preprocessing import MinMaxScaler\n",
    "from sklearn.ensemble import RandomForestRegressor\n",
    "import xgboost\n",
    "from sklearn.neural_network import MLPRegressor\n",
    "from sklearn.model_selection import cross_val_score"
   ]
  },
  {
   "cell_type": "code",
   "execution_count": 50,
   "metadata": {},
   "outputs": [
    {
     "data": {
      "text/html": [
       "<div>\n",
       "<style scoped>\n",
       "    .dataframe tbody tr th:only-of-type {\n",
       "        vertical-align: middle;\n",
       "    }\n",
       "\n",
       "    .dataframe tbody tr th {\n",
       "        vertical-align: top;\n",
       "    }\n",
       "\n",
       "    .dataframe thead th {\n",
       "        text-align: right;\n",
       "    }\n",
       "</style>\n",
       "<table border=\"1\" class=\"dataframe\">\n",
       "  <thead>\n",
       "    <tr style=\"text-align: right;\">\n",
       "      <th></th>\n",
       "      <th>price</th>\n",
       "      <th>units_sold</th>\n",
       "      <th>rating</th>\n",
       "      <th>rating_count</th>\n",
       "      <th>badges_count</th>\n",
       "      <th>badge_product_quality</th>\n",
       "      <th>product_variation_inventory</th>\n",
       "      <th>merchant_rating_count</th>\n",
       "      <th>merchant_rating</th>\n",
       "      <th>merchant_has_profile_picture</th>\n",
       "      <th>...</th>\n",
       "      <th>rating_one_count</th>\n",
       "      <th>size_m</th>\n",
       "      <th>size_other</th>\n",
       "      <th>size_s</th>\n",
       "      <th>size_xs</th>\n",
       "      <th>log_units_sold</th>\n",
       "      <th>tag_summer</th>\n",
       "      <th>tag_women's fashion</th>\n",
       "      <th>tag_sexy</th>\n",
       "      <th>tag_tank</th>\n",
       "    </tr>\n",
       "  </thead>\n",
       "  <tbody>\n",
       "    <tr>\n",
       "      <th>0</th>\n",
       "      <td>16.0</td>\n",
       "      <td>100</td>\n",
       "      <td>3.76</td>\n",
       "      <td>54</td>\n",
       "      <td>0</td>\n",
       "      <td>0</td>\n",
       "      <td>50</td>\n",
       "      <td>568</td>\n",
       "      <td>4.128521</td>\n",
       "      <td>0</td>\n",
       "      <td>...</td>\n",
       "      <td>9.0</td>\n",
       "      <td>1</td>\n",
       "      <td>0</td>\n",
       "      <td>0</td>\n",
       "      <td>0</td>\n",
       "      <td>4.605170</td>\n",
       "      <td>1</td>\n",
       "      <td>1</td>\n",
       "      <td>0</td>\n",
       "      <td>0</td>\n",
       "    </tr>\n",
       "    <tr>\n",
       "      <th>1</th>\n",
       "      <td>8.0</td>\n",
       "      <td>20000</td>\n",
       "      <td>3.45</td>\n",
       "      <td>6135</td>\n",
       "      <td>0</td>\n",
       "      <td>0</td>\n",
       "      <td>50</td>\n",
       "      <td>17752</td>\n",
       "      <td>3.899673</td>\n",
       "      <td>0</td>\n",
       "      <td>...</td>\n",
       "      <td>1077.0</td>\n",
       "      <td>0</td>\n",
       "      <td>0</td>\n",
       "      <td>0</td>\n",
       "      <td>1</td>\n",
       "      <td>9.903488</td>\n",
       "      <td>1</td>\n",
       "      <td>1</td>\n",
       "      <td>1</td>\n",
       "      <td>0</td>\n",
       "    </tr>\n",
       "    <tr>\n",
       "      <th>2</th>\n",
       "      <td>8.0</td>\n",
       "      <td>100</td>\n",
       "      <td>3.57</td>\n",
       "      <td>14</td>\n",
       "      <td>0</td>\n",
       "      <td>0</td>\n",
       "      <td>1</td>\n",
       "      <td>295</td>\n",
       "      <td>3.989831</td>\n",
       "      <td>0</td>\n",
       "      <td>...</td>\n",
       "      <td>3.0</td>\n",
       "      <td>0</td>\n",
       "      <td>0</td>\n",
       "      <td>0</td>\n",
       "      <td>1</td>\n",
       "      <td>4.605170</td>\n",
       "      <td>1</td>\n",
       "      <td>1</td>\n",
       "      <td>1</td>\n",
       "      <td>0</td>\n",
       "    </tr>\n",
       "  </tbody>\n",
       "</table>\n",
       "<p>3 rows × 24 columns</p>\n",
       "</div>"
      ],
      "text/plain": [
       "   price  units_sold  rating  rating_count  badges_count  \\\n",
       "0   16.0         100    3.76            54             0   \n",
       "1    8.0       20000    3.45          6135             0   \n",
       "2    8.0         100    3.57            14             0   \n",
       "\n",
       "   badge_product_quality  product_variation_inventory  merchant_rating_count  \\\n",
       "0                      0                           50                    568   \n",
       "1                      0                           50                  17752   \n",
       "2                      0                            1                    295   \n",
       "\n",
       "   merchant_rating  merchant_has_profile_picture  ...  rating_one_count  \\\n",
       "0         4.128521                             0  ...               9.0   \n",
       "1         3.899673                             0  ...            1077.0   \n",
       "2         3.989831                             0  ...               3.0   \n",
       "\n",
       "   size_m  size_other  size_s  size_xs  log_units_sold  tag_summer  \\\n",
       "0       1           0       0        0        4.605170           1   \n",
       "1       0           0       0        1        9.903488           1   \n",
       "2       0           0       0        1        4.605170           1   \n",
       "\n",
       "   tag_women's fashion  tag_sexy  tag_tank  \n",
       "0                    1         0         0  \n",
       "1                    1         1         0  \n",
       "2                    1         1         0  \n",
       "\n",
       "[3 rows x 24 columns]"
      ]
     },
     "execution_count": 50,
     "metadata": {},
     "output_type": "execute_result"
    }
   ],
   "source": [
    "sales_df = pd.read_csv('data/wish_sales_explore.csv')\n",
    "sales_df.head(3)"
   ]
  },
  {
   "cell_type": "markdown",
   "metadata": {},
   "source": [
    "## Split the dataset into train, test, and validation"
   ]
  },
  {
   "cell_type": "code",
   "execution_count": 51,
   "metadata": {},
   "outputs": [],
   "source": [
    "#y = sales_df[\"log_units_sold\"]\n",
    "y = sales_df[\"log_units_sold\"]\n",
    "X = sales_df.drop([\"units_sold\",\"log_units_sold\"], axis=1)\n",
    "\n",
    "X_train, X_test, y_train, y_test = train_test_split(X, y, test_size=0.2, random_state=1)"
   ]
  },
  {
   "cell_type": "markdown",
   "metadata": {},
   "source": [
    "### Normalize the numerical features"
   ]
  },
  {
   "cell_type": "code",
   "execution_count": 52,
   "metadata": {},
   "outputs": [
    {
     "data": {
      "text/plain": [
       "Index(['price', 'rating', 'rating_count', 'badges_count',\n",
       "       'badge_product_quality', 'product_variation_inventory',\n",
       "       'merchant_rating_count', 'merchant_rating',\n",
       "       'merchant_has_profile_picture', 'rating_five_count',\n",
       "       'rating_four_count', 'rating_three_count', 'rating_two_count',\n",
       "       'rating_one_count', 'size_m', 'size_other', 'size_s', 'size_xs',\n",
       "       'tag_summer', 'tag_women's fashion', 'tag_sexy', 'tag_tank'],\n",
       "      dtype='object')"
      ]
     },
     "execution_count": 52,
     "metadata": {},
     "output_type": "execute_result"
    }
   ],
   "source": [
    "X_train.columns"
   ]
  },
  {
   "cell_type": "code",
   "execution_count": 53,
   "metadata": {},
   "outputs": [
    {
     "data": {
      "text/plain": [
       "MinMaxScaler()"
      ]
     },
     "execution_count": 53,
     "metadata": {},
     "output_type": "execute_result"
    }
   ],
   "source": [
    "scaler = MinMaxScaler()\n",
    "num_col =[ 'price', 'rating', 'rating_count', 'badges_count',\n",
    "       'product_variation_inventory','merchant_rating_count', 'merchant_rating','rating_five_count',\n",
    "       'rating_four_count', 'rating_three_count', 'rating_two_count',\n",
    "       'rating_one_count']\n",
    "scaler.fit(X_train[num_col]) #fir the min_max scalar on the train dataset "
   ]
  },
  {
   "cell_type": "code",
   "execution_count": 54,
   "metadata": {},
   "outputs": [],
   "source": [
    "def minmax_on_dataset(scaler, df, num_col):\n",
    "    num_scale = scaler.transform(df[num_col])\n",
    "\n",
    "    num_scale_df = pd.DataFrame(num_scale, columns = num_col)\n",
    "    cat_df = df.drop(num_col, axis=1)\n",
    "\n",
    "    num_scale_df.reset_index(drop=True,inplace=True)\n",
    "    cat_df.reset_index(drop=True,inplace=True)\n",
    "\n",
    "    result_df = pd.concat([num_scale_df, cat_df], axis=1)\n",
    "    return result_df"
   ]
  },
  {
   "cell_type": "code",
   "execution_count": 55,
   "metadata": {},
   "outputs": [
    {
     "data": {
      "text/html": [
       "<div>\n",
       "<style scoped>\n",
       "    .dataframe tbody tr th:only-of-type {\n",
       "        vertical-align: middle;\n",
       "    }\n",
       "\n",
       "    .dataframe tbody tr th {\n",
       "        vertical-align: top;\n",
       "    }\n",
       "\n",
       "    .dataframe thead th {\n",
       "        text-align: right;\n",
       "    }\n",
       "</style>\n",
       "<table border=\"1\" class=\"dataframe\">\n",
       "  <thead>\n",
       "    <tr style=\"text-align: right;\">\n",
       "      <th></th>\n",
       "      <th>price</th>\n",
       "      <th>rating</th>\n",
       "      <th>rating_count</th>\n",
       "      <th>badges_count</th>\n",
       "      <th>product_variation_inventory</th>\n",
       "      <th>merchant_rating_count</th>\n",
       "      <th>merchant_rating</th>\n",
       "      <th>rating_five_count</th>\n",
       "      <th>rating_four_count</th>\n",
       "      <th>rating_three_count</th>\n",
       "      <th>...</th>\n",
       "      <th>badge_product_quality</th>\n",
       "      <th>merchant_has_profile_picture</th>\n",
       "      <th>size_m</th>\n",
       "      <th>size_other</th>\n",
       "      <th>size_s</th>\n",
       "      <th>size_xs</th>\n",
       "      <th>tag_summer</th>\n",
       "      <th>tag_women's fashion</th>\n",
       "      <th>tag_sexy</th>\n",
       "      <th>tag_tank</th>\n",
       "    </tr>\n",
       "  </thead>\n",
       "  <tbody>\n",
       "    <tr>\n",
       "      <th>0</th>\n",
       "      <td>0.076923</td>\n",
       "      <td>0.6000</td>\n",
       "      <td>0.000723</td>\n",
       "      <td>0.0</td>\n",
       "      <td>0.040816</td>\n",
       "      <td>0.000319</td>\n",
       "      <td>0.584422</td>\n",
       "      <td>0.000433</td>\n",
       "      <td>0.000723</td>\n",
       "      <td>0.000547</td>\n",
       "      <td>...</td>\n",
       "      <td>0</td>\n",
       "      <td>0</td>\n",
       "      <td>0</td>\n",
       "      <td>0</td>\n",
       "      <td>0</td>\n",
       "      <td>1</td>\n",
       "      <td>1</td>\n",
       "      <td>1</td>\n",
       "      <td>1</td>\n",
       "      <td>1</td>\n",
       "    </tr>\n",
       "    <tr>\n",
       "      <th>1</th>\n",
       "      <td>0.884615</td>\n",
       "      <td>0.8025</td>\n",
       "      <td>0.036734</td>\n",
       "      <td>0.0</td>\n",
       "      <td>1.000000</td>\n",
       "      <td>0.004863</td>\n",
       "      <td>0.740604</td>\n",
       "      <td>0.039920</td>\n",
       "      <td>0.036127</td>\n",
       "      <td>0.017496</td>\n",
       "      <td>...</td>\n",
       "      <td>0</td>\n",
       "      <td>0</td>\n",
       "      <td>0</td>\n",
       "      <td>1</td>\n",
       "      <td>0</td>\n",
       "      <td>0</td>\n",
       "      <td>0</td>\n",
       "      <td>0</td>\n",
       "      <td>0</td>\n",
       "      <td>0</td>\n",
       "    </tr>\n",
       "    <tr>\n",
       "      <th>2</th>\n",
       "      <td>0.307692</td>\n",
       "      <td>0.6450</td>\n",
       "      <td>0.003905</td>\n",
       "      <td>0.0</td>\n",
       "      <td>1.000000</td>\n",
       "      <td>0.016448</td>\n",
       "      <td>0.571332</td>\n",
       "      <td>0.002511</td>\n",
       "      <td>0.004817</td>\n",
       "      <td>0.003554</td>\n",
       "      <td>...</td>\n",
       "      <td>0</td>\n",
       "      <td>0</td>\n",
       "      <td>0</td>\n",
       "      <td>0</td>\n",
       "      <td>1</td>\n",
       "      <td>0</td>\n",
       "      <td>1</td>\n",
       "      <td>1</td>\n",
       "      <td>0</td>\n",
       "      <td>0</td>\n",
       "    </tr>\n",
       "    <tr>\n",
       "      <th>3</th>\n",
       "      <td>0.269231</td>\n",
       "      <td>0.6675</td>\n",
       "      <td>0.000289</td>\n",
       "      <td>0.0</td>\n",
       "      <td>0.387755</td>\n",
       "      <td>0.000618</td>\n",
       "      <td>0.546965</td>\n",
       "      <td>0.000173</td>\n",
       "      <td>0.000241</td>\n",
       "      <td>0.000547</td>\n",
       "      <td>...</td>\n",
       "      <td>0</td>\n",
       "      <td>0</td>\n",
       "      <td>0</td>\n",
       "      <td>0</td>\n",
       "      <td>1</td>\n",
       "      <td>0</td>\n",
       "      <td>1</td>\n",
       "      <td>1</td>\n",
       "      <td>1</td>\n",
       "      <td>0</td>\n",
       "    </tr>\n",
       "    <tr>\n",
       "      <th>4</th>\n",
       "      <td>0.384615</td>\n",
       "      <td>0.5725</td>\n",
       "      <td>0.002362</td>\n",
       "      <td>0.0</td>\n",
       "      <td>1.000000</td>\n",
       "      <td>0.000200</td>\n",
       "      <td>0.524554</td>\n",
       "      <td>0.001299</td>\n",
       "      <td>0.001927</td>\n",
       "      <td>0.003280</td>\n",
       "      <td>...</td>\n",
       "      <td>0</td>\n",
       "      <td>0</td>\n",
       "      <td>1</td>\n",
       "      <td>0</td>\n",
       "      <td>0</td>\n",
       "      <td>0</td>\n",
       "      <td>1</td>\n",
       "      <td>1</td>\n",
       "      <td>1</td>\n",
       "      <td>0</td>\n",
       "    </tr>\n",
       "  </tbody>\n",
       "</table>\n",
       "<p>5 rows × 22 columns</p>\n",
       "</div>"
      ],
      "text/plain": [
       "      price  rating  rating_count  badges_count  product_variation_inventory  \\\n",
       "0  0.076923  0.6000      0.000723           0.0                     0.040816   \n",
       "1  0.884615  0.8025      0.036734           0.0                     1.000000   \n",
       "2  0.307692  0.6450      0.003905           0.0                     1.000000   \n",
       "3  0.269231  0.6675      0.000289           0.0                     0.387755   \n",
       "4  0.384615  0.5725      0.002362           0.0                     1.000000   \n",
       "\n",
       "   merchant_rating_count  merchant_rating  rating_five_count  \\\n",
       "0               0.000319         0.584422           0.000433   \n",
       "1               0.004863         0.740604           0.039920   \n",
       "2               0.016448         0.571332           0.002511   \n",
       "3               0.000618         0.546965           0.000173   \n",
       "4               0.000200         0.524554           0.001299   \n",
       "\n",
       "   rating_four_count  rating_three_count  ...  badge_product_quality  \\\n",
       "0           0.000723            0.000547  ...                      0   \n",
       "1           0.036127            0.017496  ...                      0   \n",
       "2           0.004817            0.003554  ...                      0   \n",
       "3           0.000241            0.000547  ...                      0   \n",
       "4           0.001927            0.003280  ...                      0   \n",
       "\n",
       "   merchant_has_profile_picture  size_m  size_other  size_s  size_xs  \\\n",
       "0                             0       0           0       0        1   \n",
       "1                             0       0           1       0        0   \n",
       "2                             0       0           0       1        0   \n",
       "3                             0       0           0       1        0   \n",
       "4                             0       1           0       0        0   \n",
       "\n",
       "   tag_summer  tag_women's fashion  tag_sexy  tag_tank  \n",
       "0           1                    1         1         1  \n",
       "1           0                    0         0         0  \n",
       "2           1                    1         0         0  \n",
       "3           1                    1         1         0  \n",
       "4           1                    1         1         0  \n",
       "\n",
       "[5 rows x 22 columns]"
      ]
     },
     "execution_count": 55,
     "metadata": {},
     "output_type": "execute_result"
    }
   ],
   "source": [
    "X_train_prep = minmax_on_dataset(scaler, X_train, num_col)\n",
    "X_train_prep.head()"
   ]
  },
  {
   "cell_type": "code",
   "execution_count": 56,
   "metadata": {},
   "outputs": [],
   "source": [
    "X_test_prep = minmax_on_dataset(scaler, X_test, num_col)"
   ]
  },
  {
   "cell_type": "markdown",
   "metadata": {},
   "source": [
    "Our goal is to predict the ```log_units_sold```. This is a regression problem. We will start with building and comparing 3 different kinds of models: \n",
    "- RandomForest\n",
    "- XGBoost\n",
    "- Neural Network"
   ]
  },
  {
   "cell_type": "code",
   "execution_count": 57,
   "metadata": {},
   "outputs": [],
   "source": [
    "def display_scores(scores):\n",
    "    print(\"Scores:\", scores)\n",
    "    print(\"Mean:\", scores.mean())\n",
    "    print(\"Standard deviation:\", scores.std())"
   ]
  },
  {
   "cell_type": "markdown",
   "metadata": {},
   "source": [
    "### RandomForest"
   ]
  },
  {
   "cell_type": "code",
   "execution_count": 58,
   "metadata": {},
   "outputs": [
    {
     "name": "stdout",
     "output_type": "stream",
     "text": [
      "Scores: [0.74716593 0.68297109 0.68868995 0.73966999 0.70063254]\n",
      "Mean: 0.711825899665639\n",
      "Standard deviation: 0.026523100723128953\n"
     ]
    }
   ],
   "source": [
    "regressor = RandomForestRegressor(n_estimators=20, random_state=4, criterion='mse')\n",
    "regressor.fit(X_train_prep, y_train)\n",
    "regressor_scores = cross_val_score(regressor, X_train_prep, y_train, scoring='neg_mean_squared_error')\n",
    "\n",
    "regressor_mae_scores =  np.sqrt(-regressor_scores)\n",
    "display_scores(regressor_mae_scores)"
   ]
  },
  {
   "cell_type": "markdown",
   "metadata": {},
   "source": [
    "### XGBoost"
   ]
  },
  {
   "cell_type": "code",
   "execution_count": 59,
   "metadata": {},
   "outputs": [
    {
     "name": "stdout",
     "output_type": "stream",
     "text": [
      "Scores: [0.74245291 0.67270865 0.7498293  0.75267925 0.72631802]\n",
      "Mean: 0.7287976270134355\n",
      "Standard deviation: 0.029500005977797412\n"
     ]
    }
   ],
   "source": [
    "xgb_reg = xgboost.XGBRegressor()\n",
    "xgb_reg.fit(X_train_prep, y_train)\n",
    "xgb_scores = cross_val_score(xgb_reg, X_train_prep, y_train, scoring='neg_mean_squared_error')\n",
    "\n",
    "xgb_mae_scores = np.sqrt(-xgb_scores)\n",
    "display_scores(xgb_mae_scores)"
   ]
  },
  {
   "cell_type": "markdown",
   "metadata": {},
   "source": [
    "### Neural Network"
   ]
  },
  {
   "cell_type": "code",
   "execution_count": 60,
   "metadata": {},
   "outputs": [
    {
     "name": "stdout",
     "output_type": "stream",
     "text": [
      "Scores: [0.95516538 0.84125619 0.9774098  0.9324119  0.86176173]\n",
      "Mean: 0.9136010005381238\n",
      "Standard deviation: 0.05305486496409064\n"
     ]
    }
   ],
   "source": [
    "nn_reg = MLPRegressor(hidden_layer_sizes=(100,300,),random_state = 1, max_iter=500)\n",
    "nn_reg.fit(X_train_prep, y_train)\n",
    "\n",
    "nn_scores = cross_val_score(nn_reg, X_train_prep, y_train, scoring='neg_mean_squared_error')\n",
    "\n",
    "nn_mae_scores = np.sqrt(-nn_scores)\n",
    "display_scores(nn_mae_scores)"
   ]
  },
  {
   "cell_type": "markdown",
   "metadata": {},
   "source": [
    "The cross validation scores suggest that RandomForest has the best performance. However, in general, XGBoost should have better performance than randomforest. We will check if hyperparameter tuning can help on improving the XGBoost's performance in our next notebook"
   ]
  }
],
 "metadata": {
  "kernelspec": {
   "display_name": "conda_python3",
   "language": "python",
   "name": "conda_python3"
  },
  "language_info": {
   "codemirror_mode": {
    "name": "ipython",
    "version": 3
   },
   "file_extension": ".py",
   "mimetype": "text/x-python",
   "name": "python",
   "nbconvert_exporter": "python",
   "pygments_lexer": "ipython3",
   "version": "3.6.10"
  }
 },
 "nbformat": 4,
 "nbformat_minor": 4
}

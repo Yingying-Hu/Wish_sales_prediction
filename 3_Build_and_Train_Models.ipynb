{
 "cells": [
  {
   "cell_type": "code",
   "execution_count": 18,
   "metadata": {},
   "outputs": [],
   "source": [
    "import pandas as pd\n",
    "import numpy as np\n",
    "from sklearn.model_selection import train_test_split\n",
    "from sklearn.preprocessing import MinMaxScaler\n",
    "from sklearn.ensemble import RandomForestRegressor\n",
    "from sklearn import metrics\n",
    "import xgboost\n",
    "from sklearn.neural_network import MLPRegressor"
   ]
  },
  {
   "cell_type": "code",
   "execution_count": 6,
   "metadata": {},
   "outputs": [
    {
     "data": {
      "text/html": [
       "<div>\n",
       "<style scoped>\n",
       "    .dataframe tbody tr th:only-of-type {\n",
       "        vertical-align: middle;\n",
       "    }\n",
       "\n",
       "    .dataframe tbody tr th {\n",
       "        vertical-align: top;\n",
       "    }\n",
       "\n",
       "    .dataframe thead th {\n",
       "        text-align: right;\n",
       "    }\n",
       "</style>\n",
       "<table border=\"1\" class=\"dataframe\">\n",
       "  <thead>\n",
       "    <tr style=\"text-align: right;\">\n",
       "      <th></th>\n",
       "      <th>price</th>\n",
       "      <th>units_sold</th>\n",
       "      <th>rating</th>\n",
       "      <th>rating_count</th>\n",
       "      <th>badges_count</th>\n",
       "      <th>badge_product_quality</th>\n",
       "      <th>product_variation_inventory</th>\n",
       "      <th>merchant_rating_count</th>\n",
       "      <th>merchant_rating</th>\n",
       "      <th>merchant_has_profile_picture</th>\n",
       "      <th>...</th>\n",
       "      <th>rating_one_count</th>\n",
       "      <th>size_m</th>\n",
       "      <th>size_other</th>\n",
       "      <th>size_s</th>\n",
       "      <th>size_xs</th>\n",
       "      <th>log_units_sold</th>\n",
       "      <th>tag_summer</th>\n",
       "      <th>tag_women's fashion</th>\n",
       "      <th>tag_sexy</th>\n",
       "      <th>tag_tank</th>\n",
       "    </tr>\n",
       "  </thead>\n",
       "  <tbody>\n",
       "    <tr>\n",
       "      <th>0</th>\n",
       "      <td>16.0</td>\n",
       "      <td>100</td>\n",
       "      <td>3.76</td>\n",
       "      <td>54</td>\n",
       "      <td>0</td>\n",
       "      <td>0</td>\n",
       "      <td>50</td>\n",
       "      <td>568</td>\n",
       "      <td>4.128521</td>\n",
       "      <td>0</td>\n",
       "      <td>...</td>\n",
       "      <td>9.0</td>\n",
       "      <td>1</td>\n",
       "      <td>0</td>\n",
       "      <td>0</td>\n",
       "      <td>0</td>\n",
       "      <td>4.605170</td>\n",
       "      <td>1</td>\n",
       "      <td>1</td>\n",
       "      <td>0</td>\n",
       "      <td>0</td>\n",
       "    </tr>\n",
       "    <tr>\n",
       "      <th>1</th>\n",
       "      <td>8.0</td>\n",
       "      <td>20000</td>\n",
       "      <td>3.45</td>\n",
       "      <td>6135</td>\n",
       "      <td>0</td>\n",
       "      <td>0</td>\n",
       "      <td>50</td>\n",
       "      <td>17752</td>\n",
       "      <td>3.899673</td>\n",
       "      <td>0</td>\n",
       "      <td>...</td>\n",
       "      <td>1077.0</td>\n",
       "      <td>0</td>\n",
       "      <td>0</td>\n",
       "      <td>0</td>\n",
       "      <td>1</td>\n",
       "      <td>9.903488</td>\n",
       "      <td>1</td>\n",
       "      <td>1</td>\n",
       "      <td>1</td>\n",
       "      <td>0</td>\n",
       "    </tr>\n",
       "    <tr>\n",
       "      <th>2</th>\n",
       "      <td>8.0</td>\n",
       "      <td>100</td>\n",
       "      <td>3.57</td>\n",
       "      <td>14</td>\n",
       "      <td>0</td>\n",
       "      <td>0</td>\n",
       "      <td>1</td>\n",
       "      <td>295</td>\n",
       "      <td>3.989831</td>\n",
       "      <td>0</td>\n",
       "      <td>...</td>\n",
       "      <td>3.0</td>\n",
       "      <td>0</td>\n",
       "      <td>0</td>\n",
       "      <td>0</td>\n",
       "      <td>1</td>\n",
       "      <td>4.605170</td>\n",
       "      <td>1</td>\n",
       "      <td>1</td>\n",
       "      <td>1</td>\n",
       "      <td>0</td>\n",
       "    </tr>\n",
       "  </tbody>\n",
       "</table>\n",
       "<p>3 rows × 24 columns</p>\n",
       "</div>"
      ],
      "text/plain": [
       "   price  units_sold  rating  rating_count  badges_count  \\\n",
       "0   16.0         100    3.76            54             0   \n",
       "1    8.0       20000    3.45          6135             0   \n",
       "2    8.0         100    3.57            14             0   \n",
       "\n",
       "   badge_product_quality  product_variation_inventory  merchant_rating_count  \\\n",
       "0                      0                           50                    568   \n",
       "1                      0                           50                  17752   \n",
       "2                      0                            1                    295   \n",
       "\n",
       "   merchant_rating  merchant_has_profile_picture  ...  rating_one_count  \\\n",
       "0         4.128521                             0  ...               9.0   \n",
       "1         3.899673                             0  ...            1077.0   \n",
       "2         3.989831                             0  ...               3.0   \n",
       "\n",
       "   size_m  size_other  size_s  size_xs  log_units_sold  tag_summer  \\\n",
       "0       1           0       0        0        4.605170           1   \n",
       "1       0           0       0        1        9.903488           1   \n",
       "2       0           0       0        1        4.605170           1   \n",
       "\n",
       "   tag_women's fashion  tag_sexy  tag_tank  \n",
       "0                    1         0         0  \n",
       "1                    1         1         0  \n",
       "2                    1         1         0  \n",
       "\n",
       "[3 rows x 24 columns]"
      ]
     },
     "execution_count": 6,
     "metadata": {},
     "output_type": "execute_result"
    }
   ],
   "source": [
    "sales_df = pd.read_csv('data/wish_sales_explore.csv')\n",
    "sales_df.head(3)"
   ]
  },
  {
   "cell_type": "markdown",
   "metadata": {},
   "source": [
    "## Split the dataset into train, test, and validation"
   ]
  },
  {
   "cell_type": "code",
   "execution_count": 7,
   "metadata": {},
   "outputs": [],
   "source": [
    "y = sales_df[\"log_units_sold\"]\n",
    "X = sales_df.drop([\"units_sold\",\"log_units_sold\"], axis=1)\n",
    "\n",
    "X_train, X_test, y_train, y_test = train_test_split(X, y, test_size=0.2, random_state=1)\n",
    "X_train, X_val, y_train, y_val = train_test_split(X_train, y_train, test_size=0.25, random_state=1) # 0.25 x 0.8 = 0.2"
   ]
  },
  {
   "cell_type": "markdown",
   "metadata": {},
   "source": [
    "### Normalize the numerical features"
   ]
  },
  {
   "cell_type": "code",
   "execution_count": 8,
   "metadata": {},
   "outputs": [
    {
     "data": {
      "text/plain": [
       "Index(['price', 'rating', 'rating_count', 'badges_count',\n",
       "       'badge_product_quality', 'product_variation_inventory',\n",
       "       'merchant_rating_count', 'merchant_rating',\n",
       "       'merchant_has_profile_picture', 'rating_five_count',\n",
       "       'rating_four_count', 'rating_three_count', 'rating_two_count',\n",
       "       'rating_one_count', 'size_m', 'size_other', 'size_s', 'size_xs',\n",
       "       'tag_summer', 'tag_women's fashion', 'tag_sexy', 'tag_tank'],\n",
       "      dtype='object')"
      ]
     },
     "execution_count": 8,
     "metadata": {},
     "output_type": "execute_result"
    }
   ],
   "source": [
    "X_train.columns"
   ]
  },
  {
   "cell_type": "code",
   "execution_count": 10,
   "metadata": {},
   "outputs": [
    {
     "data": {
      "text/plain": [
       "MinMaxScaler()"
      ]
     },
     "execution_count": 10,
     "metadata": {},
     "output_type": "execute_result"
    }
   ],
   "source": [
    "scaler = MinMaxScaler()\n",
    "num_col =[ 'price', 'rating', 'rating_count', 'badges_count',\n",
    "       'product_variation_inventory','merchant_rating_count', 'merchant_rating','rating_five_count',\n",
    "       'rating_four_count', 'rating_three_count', 'rating_two_count',\n",
    "       'rating_one_count']\n",
    "scaler.fit(X_train[num_col]) #fir the min_max scalar on the train dataset "
   ]
  },
  {
   "cell_type": "code",
   "execution_count": 11,
   "metadata": {},
   "outputs": [],
   "source": [
    "def minmax_on_dataset(scaler, df, num_col):\n",
    "    num_scale = scaler.transform(df[num_col])\n",
    "\n",
    "    num_scale_df = pd.DataFrame(num_scale, columns = num_col)\n",
    "    cat_df = df.drop(num_col, axis=1)\n",
    "\n",
    "    num_scale_df.reset_index(drop=True,inplace=True)\n",
    "    cat_df.reset_index(drop=True,inplace=True)\n",
    "\n",
    "    result_df = pd.concat([num_scale_df, cat_df], axis=1)\n",
    "    return result_df"
   ]
  },
  {
   "cell_type": "code",
   "execution_count": 12,
   "metadata": {},
   "outputs": [
    {
     "data": {
      "text/html": [
       "<div>\n",
       "<style scoped>\n",
       "    .dataframe tbody tr th:only-of-type {\n",
       "        vertical-align: middle;\n",
       "    }\n",
       "\n",
       "    .dataframe tbody tr th {\n",
       "        vertical-align: top;\n",
       "    }\n",
       "\n",
       "    .dataframe thead th {\n",
       "        text-align: right;\n",
       "    }\n",
       "</style>\n",
       "<table border=\"1\" class=\"dataframe\">\n",
       "  <thead>\n",
       "    <tr style=\"text-align: right;\">\n",
       "      <th></th>\n",
       "      <th>price</th>\n",
       "      <th>rating</th>\n",
       "      <th>rating_count</th>\n",
       "      <th>badges_count</th>\n",
       "      <th>product_variation_inventory</th>\n",
       "      <th>merchant_rating_count</th>\n",
       "      <th>merchant_rating</th>\n",
       "      <th>rating_five_count</th>\n",
       "      <th>rating_four_count</th>\n",
       "      <th>rating_three_count</th>\n",
       "      <th>...</th>\n",
       "      <th>badge_product_quality</th>\n",
       "      <th>merchant_has_profile_picture</th>\n",
       "      <th>size_m</th>\n",
       "      <th>size_other</th>\n",
       "      <th>size_s</th>\n",
       "      <th>size_xs</th>\n",
       "      <th>tag_summer</th>\n",
       "      <th>tag_women's fashion</th>\n",
       "      <th>tag_sexy</th>\n",
       "      <th>tag_tank</th>\n",
       "    </tr>\n",
       "  </thead>\n",
       "  <tbody>\n",
       "    <tr>\n",
       "      <th>0</th>\n",
       "      <td>0.307692</td>\n",
       "      <td>0.9350</td>\n",
       "      <td>0.002266</td>\n",
       "      <td>0.0</td>\n",
       "      <td>1.0</td>\n",
       "      <td>0.013009</td>\n",
       "      <td>0.626100</td>\n",
       "      <td>0.003577</td>\n",
       "      <td>0.000723</td>\n",
       "      <td>0.000981</td>\n",
       "      <td>...</td>\n",
       "      <td>0</td>\n",
       "      <td>0</td>\n",
       "      <td>0</td>\n",
       "      <td>0</td>\n",
       "      <td>1</td>\n",
       "      <td>0</td>\n",
       "      <td>1</td>\n",
       "      <td>1</td>\n",
       "      <td>0</td>\n",
       "      <td>1</td>\n",
       "    </tr>\n",
       "    <tr>\n",
       "      <th>1</th>\n",
       "      <td>0.384615</td>\n",
       "      <td>0.7400</td>\n",
       "      <td>0.032106</td>\n",
       "      <td>0.0</td>\n",
       "      <td>1.0</td>\n",
       "      <td>0.025416</td>\n",
       "      <td>0.670925</td>\n",
       "      <td>0.032189</td>\n",
       "      <td>0.024085</td>\n",
       "      <td>0.029768</td>\n",
       "      <td>...</td>\n",
       "      <td>0</td>\n",
       "      <td>0</td>\n",
       "      <td>0</td>\n",
       "      <td>0</td>\n",
       "      <td>1</td>\n",
       "      <td>0</td>\n",
       "      <td>1</td>\n",
       "      <td>1</td>\n",
       "      <td>0</td>\n",
       "      <td>1</td>\n",
       "    </tr>\n",
       "    <tr>\n",
       "      <th>2</th>\n",
       "      <td>0.423077</td>\n",
       "      <td>0.7400</td>\n",
       "      <td>0.011907</td>\n",
       "      <td>0.0</td>\n",
       "      <td>1.0</td>\n",
       "      <td>0.086989</td>\n",
       "      <td>0.664667</td>\n",
       "      <td>0.012071</td>\n",
       "      <td>0.008911</td>\n",
       "      <td>0.010468</td>\n",
       "      <td>...</td>\n",
       "      <td>0</td>\n",
       "      <td>1</td>\n",
       "      <td>0</td>\n",
       "      <td>0</td>\n",
       "      <td>1</td>\n",
       "      <td>0</td>\n",
       "      <td>1</td>\n",
       "      <td>1</td>\n",
       "      <td>1</td>\n",
       "      <td>0</td>\n",
       "    </tr>\n",
       "    <tr>\n",
       "      <th>3</th>\n",
       "      <td>0.192308</td>\n",
       "      <td>0.7500</td>\n",
       "      <td>0.000193</td>\n",
       "      <td>0.0</td>\n",
       "      <td>1.0</td>\n",
       "      <td>0.381000</td>\n",
       "      <td>0.687441</td>\n",
       "      <td>0.000179</td>\n",
       "      <td>0.000241</td>\n",
       "      <td>0.000000</td>\n",
       "      <td>...</td>\n",
       "      <td>0</td>\n",
       "      <td>0</td>\n",
       "      <td>0</td>\n",
       "      <td>0</td>\n",
       "      <td>1</td>\n",
       "      <td>0</td>\n",
       "      <td>1</td>\n",
       "      <td>1</td>\n",
       "      <td>1</td>\n",
       "      <td>0</td>\n",
       "    </tr>\n",
       "    <tr>\n",
       "      <th>4</th>\n",
       "      <td>0.500000</td>\n",
       "      <td>0.7625</td>\n",
       "      <td>0.008051</td>\n",
       "      <td>0.0</td>\n",
       "      <td>1.0</td>\n",
       "      <td>0.061900</td>\n",
       "      <td>0.577017</td>\n",
       "      <td>0.008315</td>\n",
       "      <td>0.007707</td>\n",
       "      <td>0.005888</td>\n",
       "      <td>...</td>\n",
       "      <td>0</td>\n",
       "      <td>0</td>\n",
       "      <td>0</td>\n",
       "      <td>0</td>\n",
       "      <td>1</td>\n",
       "      <td>0</td>\n",
       "      <td>1</td>\n",
       "      <td>1</td>\n",
       "      <td>0</td>\n",
       "      <td>0</td>\n",
       "    </tr>\n",
       "  </tbody>\n",
       "</table>\n",
       "<p>5 rows × 22 columns</p>\n",
       "</div>"
      ],
      "text/plain": [
       "      price  rating  rating_count  badges_count  product_variation_inventory  \\\n",
       "0  0.307692  0.9350      0.002266           0.0                          1.0   \n",
       "1  0.384615  0.7400      0.032106           0.0                          1.0   \n",
       "2  0.423077  0.7400      0.011907           0.0                          1.0   \n",
       "3  0.192308  0.7500      0.000193           0.0                          1.0   \n",
       "4  0.500000  0.7625      0.008051           0.0                          1.0   \n",
       "\n",
       "   merchant_rating_count  merchant_rating  rating_five_count  \\\n",
       "0               0.013009         0.626100           0.003577   \n",
       "1               0.025416         0.670925           0.032189   \n",
       "2               0.086989         0.664667           0.012071   \n",
       "3               0.381000         0.687441           0.000179   \n",
       "4               0.061900         0.577017           0.008315   \n",
       "\n",
       "   rating_four_count  rating_three_count  ...  badge_product_quality  \\\n",
       "0           0.000723            0.000981  ...                      0   \n",
       "1           0.024085            0.029768  ...                      0   \n",
       "2           0.008911            0.010468  ...                      0   \n",
       "3           0.000241            0.000000  ...                      0   \n",
       "4           0.007707            0.005888  ...                      0   \n",
       "\n",
       "   merchant_has_profile_picture  size_m  size_other  size_s  size_xs  \\\n",
       "0                             0       0           0       1        0   \n",
       "1                             0       0           0       1        0   \n",
       "2                             1       0           0       1        0   \n",
       "3                             0       0           0       1        0   \n",
       "4                             0       0           0       1        0   \n",
       "\n",
       "   tag_summer  tag_women's fashion  tag_sexy  tag_tank  \n",
       "0           1                    1         0         1  \n",
       "1           1                    1         0         1  \n",
       "2           1                    1         1         0  \n",
       "3           1                    1         1         0  \n",
       "4           1                    1         0         0  \n",
       "\n",
       "[5 rows x 22 columns]"
      ]
     },
     "execution_count": 12,
     "metadata": {},
     "output_type": "execute_result"
    }
   ],
   "source": [
    "X_train_prep = minmax_on_dataset(scaler, X_train, num_col)\n",
    "X_train_prep.head()"
   ]
  },
  {
   "cell_type": "code",
   "execution_count": 13,
   "metadata": {},
   "outputs": [],
   "source": [
    "X_test_prep = minmax_on_dataset(scaler, X_test, num_col)\n",
    "X_val_prep = minmax_on_dataset(scaler, X_val, num_col)"
   ]
  },
  {
   "cell_type": "markdown",
   "metadata": {},
   "source": [
    "Our goal is to predict the ```log_units_sold```. This is a regression problem. We will start with building and comparing 3 different kinds of models: \n",
    "- RandomForest\n",
    "- XGBoost\n",
    "- Neural Network"
   ]
  },
  {
   "cell_type": "markdown",
   "metadata": {},
   "source": [
    "### RandomForest"
   ]
  },
  {
   "cell_type": "code",
   "execution_count": 14,
   "metadata": {},
   "outputs": [
    {
     "name": "stdout",
     "output_type": "stream",
     "text": [
      "Root Mean Squared Error: 4859.771296882556\n"
     ]
    }
   ],
   "source": [
    "regressor = RandomForestRegressor(n_estimators=20, random_state=1)\n",
    "regressor.fit(X_train_prep, y_train)\n",
    "y_pred = regressor.predict(X_val_prep)\n",
    "\n",
    "print('Root Mean Squared Error:', \n",
    "      np.sqrt(metrics.mean_squared_error(np.exp(y_val), np.exp(y_pred))))"
   ]
  },
  {
   "cell_type": "markdown",
   "metadata": {},
   "source": [
    "### XGBoost"
   ]
  },
  {
   "cell_type": "code",
   "execution_count": 32,
   "metadata": {},
   "outputs": [
    {
     "name": "stdout",
     "output_type": "stream",
     "text": [
      "[0]\tvalidation_0-rmse:4.73246\n",
      "Will train until validation_0-rmse hasn't improved in 2 rounds.\n",
      "[1]\tvalidation_0-rmse:3.40658\n",
      "[2]\tvalidation_0-rmse:2.46812\n",
      "[3]\tvalidation_0-rmse:1.82942\n",
      "[4]\tvalidation_0-rmse:1.39315\n",
      "[5]\tvalidation_0-rmse:1.11359\n",
      "[6]\tvalidation_0-rmse:0.92833\n",
      "[7]\tvalidation_0-rmse:0.82684\n",
      "[8]\tvalidation_0-rmse:0.77031\n",
      "[9]\tvalidation_0-rmse:0.73921\n",
      "[10]\tvalidation_0-rmse:0.72096\n",
      "[11]\tvalidation_0-rmse:0.71930\n",
      "[12]\tvalidation_0-rmse:0.71908\n",
      "[13]\tvalidation_0-rmse:0.72193\n",
      "[14]\tvalidation_0-rmse:0.72224\n",
      "Stopping. Best iteration:\n",
      "[12]\tvalidation_0-rmse:0.71908\n",
      "\n",
      "Root Mean Squared Error: 6485.270819590707\n"
     ]
    }
   ],
   "source": [
    "xgb_reg = xgboost.XGBRegressor()\n",
    "xgb_reg.fit(X_train_prep, y_train, eval_set=[(X_val_prep, y_val)], eval_metric='rmse',early_stopping_rounds=2)\n",
    "y_pred = xgb_reg.predict(X_val_prep)\n",
    "print('Root Mean Squared Error:', \n",
    "      np.sqrt(metrics.mean_squared_error(np.exp(y_val), np.exp(y_pred))))"
   ]
  },
  {
   "cell_type": "markdown",
   "metadata": {},
   "source": [
    "### Neural Network"
   ]
  },
  {
   "cell_type": "code",
   "execution_count": 30,
   "metadata": {},
   "outputs": [
    {
     "name": "stdout",
     "output_type": "stream",
     "text": [
      "Root Mean Squared Error: 8401.490276628996\n"
     ]
    }
   ],
   "source": [
    "nn_reg = MLPRegressor(hidden_layer_sizes=(100,300,),random_state = 1, max_iter=500)\n",
    "nn_reg.fit(X_train_prep, y_train)\n",
    "y_pred = nn_reg.predict(X_val_prep)\n",
    "\n",
    "print('Root Mean Squared Error:', \n",
    "      np.sqrt(metrics.mean_squared_error(np.exp(y_val), np.exp(y_pred))))"
   ]
  }
 ],
 "metadata": {
  "kernelspec": {
   "display_name": "conda_python3",
   "language": "python",
   "name": "conda_python3"
  },
  "language_info": {
   "codemirror_mode": {
    "name": "ipython",
    "version": 3
   },
   "file_extension": ".py",
   "mimetype": "text/x-python",
   "name": "python",
   "nbconvert_exporter": "python",
   "pygments_lexer": "ipython3",
   "version": "3.6.10"
  }
 },
 "nbformat": 4,
 "nbformat_minor": 4
}

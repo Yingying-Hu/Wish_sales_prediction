{
 "cells": [
  {
   "cell_type": "code",
   "execution_count": 8,
   "metadata": {},
   "outputs": [
    {
     "name": "stdout",
     "output_type": "stream",
     "text": [
      "Collecting xgboost\n",
      "  Downloading xgboost-1.2.0-py3-none-manylinux2010_x86_64.whl (148.9 MB)\n",
      "\u001b[K     |████████████████████████████████| 148.9 MB 22 kB/s s eta 0:00:01\n",
      "\u001b[?25hRequirement already satisfied: scipy in /home/ec2-user/anaconda3/envs/python3/lib/python3.6/site-packages (from xgboost) (1.4.1)\n",
      "Requirement already satisfied: numpy in /home/ec2-user/anaconda3/envs/python3/lib/python3.6/site-packages (from xgboost) (1.18.1)\n",
      "Installing collected packages: xgboost\n",
      "Successfully installed xgboost-1.2.0\n",
      "\u001b[33mWARNING: You are using pip version 20.0.2; however, version 20.2.3 is available.\n",
      "You should consider upgrading via the '/home/ec2-user/anaconda3/envs/python3/bin/python -m pip install --upgrade pip' command.\u001b[0m\n",
      "Note: you may need to restart the kernel to use updated packages.\n"
     ]
    }
   ],
   "source": [
    "pip install xgboost"
   ]
  },
  {
   "cell_type": "code",
   "execution_count": 15,
   "metadata": {},
   "outputs": [],
   "source": [
    "import sagemaker\n",
    "from sagemaker import get_execution_role\n",
    "import s3fs\n",
    "import pickle\n",
    "import tarfile\n",
    "import xgboost\n",
    "import pandas as pd"
   ]
  },
  {
   "cell_type": "code",
   "execution_count": 20,
   "metadata": {},
   "outputs": [
    {
     "data": {
      "text/html": [
       "<div>\n",
       "<style scoped>\n",
       "    .dataframe tbody tr th:only-of-type {\n",
       "        vertical-align: middle;\n",
       "    }\n",
       "\n",
       "    .dataframe tbody tr th {\n",
       "        vertical-align: top;\n",
       "    }\n",
       "\n",
       "    .dataframe thead th {\n",
       "        text-align: right;\n",
       "    }\n",
       "</style>\n",
       "<table border=\"1\" class=\"dataframe\">\n",
       "  <thead>\n",
       "    <tr style=\"text-align: right;\">\n",
       "      <th></th>\n",
       "      <th>price</th>\n",
       "      <th>rating</th>\n",
       "      <th>rating_count</th>\n",
       "      <th>badges_count</th>\n",
       "      <th>product_variation_inventory</th>\n",
       "      <th>merchant_rating_count</th>\n",
       "      <th>merchant_rating</th>\n",
       "      <th>rating_five_count</th>\n",
       "      <th>rating_four_count</th>\n",
       "      <th>rating_three_count</th>\n",
       "      <th>...</th>\n",
       "      <th>badge_product_quality</th>\n",
       "      <th>merchant_has_profile_picture</th>\n",
       "      <th>size_m</th>\n",
       "      <th>size_other</th>\n",
       "      <th>size_s</th>\n",
       "      <th>size_xs</th>\n",
       "      <th>tag_summer</th>\n",
       "      <th>tag_women's fashion</th>\n",
       "      <th>tag_sexy</th>\n",
       "      <th>tag_tank</th>\n",
       "    </tr>\n",
       "  </thead>\n",
       "  <tbody>\n",
       "    <tr>\n",
       "      <th>0</th>\n",
       "      <td>0.307692</td>\n",
       "      <td>0.9350</td>\n",
       "      <td>0.002266</td>\n",
       "      <td>0.0</td>\n",
       "      <td>1.0</td>\n",
       "      <td>0.013009</td>\n",
       "      <td>0.626100</td>\n",
       "      <td>0.003577</td>\n",
       "      <td>0.000723</td>\n",
       "      <td>0.000981</td>\n",
       "      <td>...</td>\n",
       "      <td>0.0</td>\n",
       "      <td>0.0</td>\n",
       "      <td>0.0</td>\n",
       "      <td>0.0</td>\n",
       "      <td>1.0</td>\n",
       "      <td>0.0</td>\n",
       "      <td>1.0</td>\n",
       "      <td>1.0</td>\n",
       "      <td>0.0</td>\n",
       "      <td>1.0</td>\n",
       "    </tr>\n",
       "    <tr>\n",
       "      <th>1</th>\n",
       "      <td>0.384615</td>\n",
       "      <td>0.7400</td>\n",
       "      <td>0.032106</td>\n",
       "      <td>0.0</td>\n",
       "      <td>1.0</td>\n",
       "      <td>0.025416</td>\n",
       "      <td>0.670925</td>\n",
       "      <td>0.032189</td>\n",
       "      <td>0.024085</td>\n",
       "      <td>0.029768</td>\n",
       "      <td>...</td>\n",
       "      <td>0.0</td>\n",
       "      <td>0.0</td>\n",
       "      <td>0.0</td>\n",
       "      <td>0.0</td>\n",
       "      <td>1.0</td>\n",
       "      <td>0.0</td>\n",
       "      <td>1.0</td>\n",
       "      <td>1.0</td>\n",
       "      <td>0.0</td>\n",
       "      <td>1.0</td>\n",
       "    </tr>\n",
       "    <tr>\n",
       "      <th>2</th>\n",
       "      <td>0.423077</td>\n",
       "      <td>0.7400</td>\n",
       "      <td>0.011907</td>\n",
       "      <td>0.0</td>\n",
       "      <td>1.0</td>\n",
       "      <td>0.086989</td>\n",
       "      <td>0.664667</td>\n",
       "      <td>0.012071</td>\n",
       "      <td>0.008911</td>\n",
       "      <td>0.010468</td>\n",
       "      <td>...</td>\n",
       "      <td>0.0</td>\n",
       "      <td>1.0</td>\n",
       "      <td>0.0</td>\n",
       "      <td>0.0</td>\n",
       "      <td>1.0</td>\n",
       "      <td>0.0</td>\n",
       "      <td>1.0</td>\n",
       "      <td>1.0</td>\n",
       "      <td>1.0</td>\n",
       "      <td>0.0</td>\n",
       "    </tr>\n",
       "    <tr>\n",
       "      <th>3</th>\n",
       "      <td>0.192308</td>\n",
       "      <td>0.7500</td>\n",
       "      <td>0.000193</td>\n",
       "      <td>0.0</td>\n",
       "      <td>1.0</td>\n",
       "      <td>0.381000</td>\n",
       "      <td>0.687441</td>\n",
       "      <td>0.000179</td>\n",
       "      <td>0.000241</td>\n",
       "      <td>0.000000</td>\n",
       "      <td>...</td>\n",
       "      <td>0.0</td>\n",
       "      <td>0.0</td>\n",
       "      <td>0.0</td>\n",
       "      <td>0.0</td>\n",
       "      <td>1.0</td>\n",
       "      <td>0.0</td>\n",
       "      <td>1.0</td>\n",
       "      <td>1.0</td>\n",
       "      <td>1.0</td>\n",
       "      <td>0.0</td>\n",
       "    </tr>\n",
       "    <tr>\n",
       "      <th>4</th>\n",
       "      <td>0.500000</td>\n",
       "      <td>0.7625</td>\n",
       "      <td>0.008051</td>\n",
       "      <td>0.0</td>\n",
       "      <td>1.0</td>\n",
       "      <td>0.061900</td>\n",
       "      <td>0.577017</td>\n",
       "      <td>0.008315</td>\n",
       "      <td>0.007707</td>\n",
       "      <td>0.005888</td>\n",
       "      <td>...</td>\n",
       "      <td>0.0</td>\n",
       "      <td>0.0</td>\n",
       "      <td>0.0</td>\n",
       "      <td>0.0</td>\n",
       "      <td>1.0</td>\n",
       "      <td>0.0</td>\n",
       "      <td>1.0</td>\n",
       "      <td>1.0</td>\n",
       "      <td>0.0</td>\n",
       "      <td>0.0</td>\n",
       "    </tr>\n",
       "  </tbody>\n",
       "</table>\n",
       "<p>5 rows × 22 columns</p>\n",
       "</div>"
      ],
      "text/plain": [
       "      price  rating  rating_count  badges_count  product_variation_inventory  \\\n",
       "0  0.307692  0.9350      0.002266           0.0                          1.0   \n",
       "1  0.384615  0.7400      0.032106           0.0                          1.0   \n",
       "2  0.423077  0.7400      0.011907           0.0                          1.0   \n",
       "3  0.192308  0.7500      0.000193           0.0                          1.0   \n",
       "4  0.500000  0.7625      0.008051           0.0                          1.0   \n",
       "\n",
       "   merchant_rating_count  merchant_rating  rating_five_count  \\\n",
       "0               0.013009         0.626100           0.003577   \n",
       "1               0.025416         0.670925           0.032189   \n",
       "2               0.086989         0.664667           0.012071   \n",
       "3               0.381000         0.687441           0.000179   \n",
       "4               0.061900         0.577017           0.008315   \n",
       "\n",
       "   rating_four_count  rating_three_count  ...  badge_product_quality  \\\n",
       "0           0.000723            0.000981  ...                    0.0   \n",
       "1           0.024085            0.029768  ...                    0.0   \n",
       "2           0.008911            0.010468  ...                    0.0   \n",
       "3           0.000241            0.000000  ...                    0.0   \n",
       "4           0.007707            0.005888  ...                    0.0   \n",
       "\n",
       "   merchant_has_profile_picture  size_m  size_other  size_s  size_xs  \\\n",
       "0                           0.0     0.0         0.0     1.0      0.0   \n",
       "1                           0.0     0.0         0.0     1.0      0.0   \n",
       "2                           1.0     0.0         0.0     1.0      0.0   \n",
       "3                           0.0     0.0         0.0     1.0      0.0   \n",
       "4                           0.0     0.0         0.0     1.0      0.0   \n",
       "\n",
       "   tag_summer  tag_women's fashion  tag_sexy  tag_tank  \n",
       "0         1.0                  1.0       0.0       1.0  \n",
       "1         1.0                  1.0       0.0       1.0  \n",
       "2         1.0                  1.0       1.0       0.0  \n",
       "3         1.0                  1.0       1.0       0.0  \n",
       "4         1.0                  1.0       0.0       0.0  \n",
       "\n",
       "[5 rows x 22 columns]"
      ]
     },
     "execution_count": 20,
     "metadata": {},
     "output_type": "execute_result"
    }
   ],
   "source": [
    "train_df = pd.read_csv(\"data/train_w_columns.csv\").drop([\"log_units_sold\"], axis=1)\n",
    "train_df.head()"
   ]
  },
  {
   "cell_type": "code",
   "execution_count": 2,
   "metadata": {},
   "outputs": [],
   "source": [
    "session = sagemaker.Session() # Store the current SageMaker session\n",
    "role = get_execution_role()"
   ]
  },
  {
   "cell_type": "code",
   "execution_count": null,
   "metadata": {},
   "outputs": [],
   "source": [
    "model_path = 's3://sagemaker-us-east-2-668015539882/wish-xgboost/output/sagemaker-xgboost-200928-2025-009-c5ae0199/output/model.tar.gz'\n",
    "\n",
    "fs = s3fs.S3FileSystem()\n",
    "\n",
    "with fs.open(model_path, 'rb') as f:\n",
    "    with tarfile.open(fileobj=f, mode='r') as tar_f:\n",
    "        with tar_f.extractfile('xgboost-model') as extracted_f:\n",
    "            xgbooster = pickle.load(extracted_f)"
   ]
  },
  {
   "cell_type": "code",
   "execution_count": 39,
   "metadata": {},
   "outputs": [
    {
     "data": {
      "text/plain": [
       "20"
      ]
     },
     "execution_count": 39,
     "metadata": {},
     "output_type": "execute_result"
    }
   ],
   "source": [
    "#Get feature importance of each feature.\n",
    "feature_import = xgbooster.get_fscore()\n",
    "len(feature_import)"
   ]
  },
  {
   "cell_type": "markdown",
   "metadata": {},
   "source": [
    "The final XGBoost uses 20 of 22 features "
   ]
  },
  {
   "cell_type": "markdown",
   "metadata": {},
   "source": [
    "Keep in mind that this function does not include zero-importance feature, i.e. those features that have not been used in any split conditions."
   ]
  },
  {
   "cell_type": "code",
   "execution_count": 11,
   "metadata": {},
   "outputs": [
    {
     "data": {
      "text/plain": [
       "<matplotlib.axes._subplots.AxesSubplot at 0x7f095dead128>"
      ]
     },
     "execution_count": 11,
     "metadata": {},
     "output_type": "execute_result"
    },
    {
     "data": {
      "image/png": "[encoded data removed]",
      "text/plain": [
       "<Figure size 432x288 with 1 Axes>"
      ]
     },
     "metadata": {
      "needs_background": "light"
     },
     "output_type": "display_data"
    }
   ],
   "source": [
    "xgboost.plot_importance(xgbooster)"
   ]
  },
  {
   "cell_type": "code",
   "execution_count": 38,
   "metadata": {},
   "outputs": [
    {
     "data": {
      "text/plain": [
       "{'f2': 'rating_count',\n",
       " 'f6': 'merchant_rating',\n",
       " 'f9': 'rating_three_count',\n",
       " 'f7': 'rating_five_count',\n",
       " 'f0': 'price',\n",
       " 'f5': 'merchant_rating_count',\n",
       " 'f10': 'rating_two_count',\n",
       " 'f11': 'rating_one_count',\n",
       " 'f8': 'rating_four_count',\n",
       " 'f1': 'rating',\n",
       " 'f14': 'size_m',\n",
       " 'f16': 'size_s',\n",
       " 'f4': 'product_variation_inventory',\n",
       " 'f21': 'tag_tank',\n",
       " 'f15': 'size_other',\n",
       " 'f19': \"tag_women's fashion\",\n",
       " 'f17': 'size_xs',\n",
       " 'f18': 'tag_summer',\n",
       " 'f20': 'tag_sexy',\n",
       " 'f12': 'badge_product_quality'}"
      ]
     },
     "execution_count": 38,
     "metadata": {},
     "output_type": "execute_result"
    }
   ],
   "source": [
    "keys = list(feature_import.keys())\n",
    "get_columns={}\n",
    "\n",
    "for k in keys:\n",
    "    get_columns[k] = train_df.columns[int(k[1:])]\n",
    "get_columns"
   ]
  },
  {
   "cell_type": "code",
   "execution_count": 46,
   "metadata": {},
   "outputs": [
    {
     "data": {
      "text/plain": [
       "{'badges_count', 'merchant_has_profile_picture'}"
      ]
     },
     "execution_count": 46,
     "metadata": {},
     "output_type": "execute_result"
    }
   ],
   "source": [
    "set(train_df.columns) - set(get_columns.values()) #features that are not used by the model"
   ]
  },
  {
   "cell_type": "markdown",
   "metadata": {},
   "source": [
    "- The top 5 important features are ```rating_count```, ```merchant_rating```, ```price```, ```merchant_rating_count```, and ```rating_five_count```\n",
    "- Top 5 least important features are ```size_m```, ```size_xs```, ```tag_sexy```, ```tag_women's fashion``` and ```badge_product_quality```\n",
    "- There are two features are not used by the model: ```badges_count```, ```merchant_has_profile_picture```"
   ]
  }
 ],
 "metadata": {
  "kernelspec": {
   "display_name": "conda_python3",
   "language": "python",
   "name": "conda_python3"
  },
  "language_info": {
   "codemirror_mode": {
    "name": "ipython",
    "version": 3
   },
   "file_extension": ".py",
   "mimetype": "text/x-python",
   "name": "python",
   "nbconvert_exporter": "python",
   "pygments_lexer": "ipython3",
   "version": "3.6.10"
  }
 },
 "nbformat": 4,
 "nbformat_minor": 4
}
